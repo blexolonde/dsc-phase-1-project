{
 "cells": [
  {
   "cell_type": "markdown",
   "metadata": {},
   "source": [
    "## ANALYZING AIRCRAFT SAFETY FOR BUSINESS EXPANSION\n",
    "\n",
    "### Overview\n",
    "\n",
    "This project aims to identify low-risk aircraft for a company looking to expand into the aviation industry. We'll analyze aviation accident data from 2003 to 2023, focusing on the severity of incidents and the influence of weather conditions and flight purpose. The goal is to provide actionable insights to guide aircraft purchasing decisions and ensure safe operations.\n",
    "\n",
    "**Data Source**: The NTSB aviation accident database from kaggle(https://www.kaggle.com/datasets/khsamaha/aviation-accident-database-synopses)"
   ]
  },
  {
   "cell_type": "markdown",
   "metadata": {
    "tags": []
   },
   "source": [
    "###  Data Preparation\n",
    "\n"
   ]
  },
  {
   "cell_type": "code",
   "execution_count": 1,
   "metadata": {},
   "outputs": [
    {
     "data": {
      "text/plain": [
       "Index(['Event.Id', 'Investigation.Type', 'Accident.Number', 'Event.Date',\n",
       "       'Location', 'Country', 'Latitude', 'Longitude', 'Airport.Code',\n",
       "       'Airport.Name', 'Injury.Severity', 'Aircraft.damage',\n",
       "       'Aircraft.Category', 'Registration.Number', 'Make', 'Model',\n",
       "       'Amateur.Built', 'Number.of.Engines', 'Engine.Type', 'FAR.Description',\n",
       "       'Schedule', 'Purpose.of.flight', 'Air.carrier', 'Total.Fatal.Injuries',\n",
       "       'Total.Serious.Injuries', 'Total.Minor.Injuries', 'Total.Uninjured',\n",
       "       'Weather.Condition', 'Broad.phase.of.flight', 'Report.Status',\n",
       "       'Publication.Date'],\n",
       "      dtype='object')"
      ]
     },
     "execution_count": 1,
     "metadata": {},
     "output_type": "execute_result"
    }
   ],
   "source": [
    "#Importing Libraries and loading data\n",
    "import pandas as pd\n",
    "import altair as alt\n",
    "import numpy as np\n",
    "import matplotlib.pyplot as plt\n",
    "import plotly.express as px\n",
    "import plotly.graph_objects as go\n",
    "%matplotlib inline\n",
    "import warnings\n",
    "\n",
    "warnings.filterwarnings('ignore')     \n",
    "\n",
    "# Read the CSV file into a DataFrame using latin1 encoding\n",
    "df = pd.read_csv('C:\\\\Users\\\\USER\\\\Desktop\\\\DataScience\\\\data\\\\AviationData.csv', encoding='latin1')\n",
    "df.columns\n"
   ]
  },
  {
   "cell_type": "markdown",
   "metadata": {},
   "source": [
    "**Key Columns in the Dataset**:\n",
    "\n",
    "* Event.Id: Unique identifier for each event.\n",
    "\n",
    "* Investigation.Type: Indicates whether it was an accident or an incident.\n",
    "* Accident.Number: Unique identifier for the accident.\n",
    "* Event.Date: Date of the event.\n",
    "* Location: Location of the event. \n",
    "* Country: Country where the event occurred.\n",
    "* Latitude and Longitude: Coordinates of the event location.\n",
    "* Airport.Code and Airport.Name: Details about the airport, if applicable. \n",
    "* Aircraft.Category: Category of the aircraft involved. \n",
    "* Make and Model: Manufacturer and model of the aircraft. \n",
    "* Total.Fatal.Injuries, Total.Serious.Injuries, Total.Minor.Injuries, Total.Uninjured: Casualty details. \n",
    "* Weather.Condition: Weather condition during the event. \n",
    "* Broad.phase.of.flight: Phase of flight during which the event occurred.\n",
    "* Report.Status: Status of the investigation report. \n",
    "* Publication.Date: Date when the report was published.  \n"
   ]
  },
  {
   "cell_type": "code",
   "execution_count": 2,
   "metadata": {},
   "outputs": [
    {
     "name": "stdout",
     "output_type": "stream",
     "text": [
      "<class 'pandas.core.frame.DataFrame'>\n",
      "RangeIndex: 88889 entries, 0 to 88888\n",
      "Data columns (total 31 columns):\n",
      " #   Column                  Non-Null Count  Dtype  \n",
      "---  ------                  --------------  -----  \n",
      " 0   Event.Id                88889 non-null  object \n",
      " 1   Investigation.Type      88889 non-null  object \n",
      " 2   Accident.Number         88889 non-null  object \n",
      " 3   Event.Date              88889 non-null  object \n",
      " 4   Location                88837 non-null  object \n",
      " 5   Country                 88663 non-null  object \n",
      " 6   Latitude                34382 non-null  object \n",
      " 7   Longitude               34373 non-null  object \n",
      " 8   Airport.Code            50249 non-null  object \n",
      " 9   Airport.Name            52790 non-null  object \n",
      " 10  Injury.Severity         87889 non-null  object \n",
      " 11  Aircraft.damage         85695 non-null  object \n",
      " 12  Aircraft.Category       32287 non-null  object \n",
      " 13  Registration.Number     87572 non-null  object \n",
      " 14  Make                    88826 non-null  object \n",
      " 15  Model                   88797 non-null  object \n",
      " 16  Amateur.Built           88787 non-null  object \n",
      " 17  Number.of.Engines       82805 non-null  float64\n",
      " 18  Engine.Type             81812 non-null  object \n",
      " 19  FAR.Description         32023 non-null  object \n",
      " 20  Schedule                12582 non-null  object \n",
      " 21  Purpose.of.flight       82697 non-null  object \n",
      " 22  Air.carrier             16648 non-null  object \n",
      " 23  Total.Fatal.Injuries    77488 non-null  float64\n",
      " 24  Total.Serious.Injuries  76379 non-null  float64\n",
      " 25  Total.Minor.Injuries    76956 non-null  float64\n",
      " 26  Total.Uninjured         82977 non-null  float64\n",
      " 27  Weather.Condition       84397 non-null  object \n",
      " 28  Broad.phase.of.flight   61724 non-null  object \n",
      " 29  Report.Status           82508 non-null  object \n",
      " 30  Publication.Date        75118 non-null  object \n",
      "dtypes: float64(5), object(26)\n",
      "memory usage: 21.0+ MB\n",
      "None\n"
     ]
    }
   ],
   "source": [
    "\n",
    "print(df.info())"
   ]
  },
  {
   "cell_type": "markdown",
   "metadata": {},
   "source": [
    "**Summary of the Dataset**:\n",
    "\n",
    "* Total Records: 88,889 \n",
    "* Total Columns: 31 \n",
    "* Missing Values: Many columns contain missing values.Columns like [Latitude, Longitude, Airport.Code, and Airport.Name have a significant amount of missing data. Columns such as Aircraft.Category, FAR.Description, Schedule, Air.carrier, and Broad.phase.of.flight ] also have substantial missing values"
   ]
  },
  {
   "cell_type": "markdown",
   "metadata": {
    "tags": []
   },
   "source": [
    "### Data Cleaning and Filtering "
   ]
  },
  {
   "cell_type": "code",
   "execution_count": 3,
   "metadata": {},
   "outputs": [],
   "source": [
    "# Convert the `Event.Date` column to datetime\n",
    "df['Event.Date'] = pd.to_datetime(df['Event.Date'])\n",
    "\n",
    "# Filter data from '2003-01-01' onwards\n",
    "filtered_df = df[df['Event.Date'] >= '2003-01-01'].copy()\n",
    "\n",
    "# Create a new column `Fatality_Level` by mapping the values in `Injury.Severity`\n",
    "severity_mapping = {'Fatal': 'High', 'Non-Fatal': 'Low', 'Incident': 'Low'}\n",
    "filtered_df['Fatality_Level'] = filtered_df['Injury.Severity'].map(severity_mapping).fillna('Medium')\n",
    "\n",
    "# Combine the `Make` and `Model` columns to create a new column `Aircraft`\n",
    "filtered_df['Aircraft'] = filtered_df['Make'] + ' ' + filtered_df['Model']\n"
   ]
  },
  {
   "cell_type": "markdown",
   "metadata": {
    "tags": []
   },
   "source": [
    "### Data Analysis "
   ]
  },
  {
   "cell_type": "markdown",
   "metadata": {},
   "source": [
    "#### Risk Calculation"
   ]
  },
  {
   "cell_type": "markdown",
   "metadata": {},
   "source": [
    "**Aggregate Incidents and Severity Levels**"
   ]
  },
  {
   "cell_type": "code",
   "execution_count": 4,
   "metadata": {},
   "outputs": [],
   "source": [
    "# Group by `Aircraft` and calculate the sum of different types of injuries\n",
    "incidents_by_aircraft = filtered_df.groupby('Aircraft')[['Total.Fatal.Injuries', 'Total.Serious.Injuries', 'Total.Minor.Injuries']].sum()\n",
    "\n",
    "# Calculate the total number of incidents for each aircraft type\n",
    "total_incidents_by_aircraft = filtered_df['Aircraft'].value_counts()\n",
    "\n",
    "# Filter for each severity level and count by aircraft type\n",
    "high_severity_incidents_by_aircraft = filtered_df[filtered_df['Total.Fatal.Injuries'] > 0]['Aircraft'].value_counts()\n",
    "medium_severity_incidents_by_aircraft = filtered_df[filtered_df['Total.Serious.Injuries'] > 0]['Aircraft'].value_counts()\n",
    "low_severity_incidents_by_aircraft = filtered_df[filtered_df['Total.Minor.Injuries'] > 0]['Aircraft'].value_counts()\n",
    "\n",
    "# Combine total incidents and severity level incidents into a new dataframe\n",
    "aircraft_incident_summary = pd.concat([total_incidents_by_aircraft, high_severity_incidents_by_aircraft, medium_severity_incidents_by_aircraft, low_severity_incidents_by_aircraft], axis=1).reset_index()\n",
    "aircraft_incident_summary.columns = ['Aircraft', 'Total_Incidents', 'High_Severity_Incidents', 'Medium_Severity_Incidents', 'Low_Severity_Incidents']\n",
    "aircraft_incident_summary.fillna(0, inplace=True)\n"
   ]
  },
  {
   "cell_type": "markdown",
   "metadata": {},
   "source": [
    "**Calculate Weighted Risk Scores and Filter**"
   ]
  },
  {
   "cell_type": "code",
   "execution_count": 5,
   "metadata": {},
   "outputs": [],
   "source": [
    "# Calculate the weighted risk score\n",
    "aircraft_incident_summary['Weighted_Risk_Score'] = (aircraft_incident_summary['High_Severity_Incidents'] * 3) + (aircraft_incident_summary['Medium_Severity_Incidents'] * 2) + aircraft_incident_summary['Low_Severity_Incidents']\n",
    "\n",
    "# Filter for aircraft with at least 100 total incidents\n",
    "aircraft_incident_summary_filtered = aircraft_incident_summary[aircraft_incident_summary['Total_Incidents'] >= 100]\n",
    "\n",
    "# Sort by weighted risk score in ascending order\n",
    "low_risk_aircraft = aircraft_incident_summary_filtered.sort_values('Weighted_Risk_Score')\n"
   ]
  },
  {
   "cell_type": "markdown",
   "metadata": {},
   "source": [
    "#### Aircraft Risk Tier Classification"
   ]
  },
  {
   "cell_type": "code",
   "execution_count": 6,
   "metadata": {},
   "outputs": [
    {
     "name": "stdout",
     "output_type": "stream",
     "text": [
      "|           | Risk_Tier   |\n",
      "|:----------|:------------|\n",
      "| Very High | 7           |\n",
      "| Low       | 7           |\n",
      "| Medium    | 6           |\n",
      "| High      | 6           |\n"
     ]
    }
   ],
   "source": [
    "# Define risk thresholds\n",
    "low_risk_threshold = aircraft_incident_summary_filtered['Weighted_Risk_Score'].quantile(0.25)\n",
    "medium_risk_threshold = aircraft_incident_summary_filtered['Weighted_Risk_Score'].quantile(0.50)\n",
    "high_risk_threshold = aircraft_incident_summary_filtered['Weighted_Risk_Score'].quantile(0.75)\n",
    "\n",
    "# Assign risk tiers to each aircraft\n",
    "def assign_risk_tier(score):\n",
    "    if score <= low_risk_threshold:\n",
    "        return 'Low'\n",
    "    elif score <= medium_risk_threshold:\n",
    "        return 'Medium'\n",
    "    elif score <= high_risk_threshold:\n",
    "        return 'High'\n",
    "    else:\n",
    "        return 'Very High'\n",
    "\n",
    "aircraft_incident_summary_filtered['Risk_Tier'] = aircraft_incident_summary_filtered['Weighted_Risk_Score'].apply(assign_risk_tier)\n",
    "\n",
    "# Print the distribution of risk tiers\n",
    "print(aircraft_incident_summary_filtered['Risk_Tier'].value_counts().to_markdown(numalign=\"left\", stralign=\"left\"))\n"
   ]
  },
  {
   "cell_type": "markdown",
   "metadata": {},
   "source": [
    "### EDA : Basic visualizations"
   ]
  },
  {
   "cell_type": "markdown",
   "metadata": {},
   "source": [
    "#### Total Incidents vs. Proportion of Incidents in VMC"
   ]
  },
  {
   "cell_type": "code",
   "execution_count": 7,
   "metadata": {
    "tags": []
   },
   "outputs": [],
   "source": [
    "# Filter the DataFrame to include only rows where `Weather.Condition` is either 'VMC' or 'IMC'\n",
    "filtered_weather_df = filtered_df[filtered_df['Weather.Condition'].isin(['VMC', 'IMC'])].copy()\n",
    "\n",
    "# Aggregate incidents by aircraft and weather condition\n",
    "incidents_by_aircraft_weather = filtered_weather_df.groupby(['Aircraft', 'Weather.Condition']).size().reset_index(name='Incidents')\n",
    "\n",
    "# Pivot the data to have weather conditions as columns\n",
    "incidents_by_aircraft_weather_pivot = incidents_by_aircraft_weather.pivot(index='Aircraft', columns='Weather.Condition', values='Incidents').fillna(0)\n",
    "incidents_by_aircraft_weather_pivot.columns = ['Incidents_VMC', 'Incidents_IMC']\n",
    "\n",
    "# Merge with the filtered summary DataFrame\n",
    "merged_df = aircraft_incident_summary_filtered.merge(incidents_by_aircraft_weather_pivot, on='Aircraft', how='left')\n",
    "\n",
    "# Calculate proportions of VMC and IMC incidents\n",
    "merged_df['Proportion_VMC'] = merged_df['Incidents_VMC'] / merged_df['Total_Incidents']\n",
    "merged_df['Proportion_IMC'] = merged_df['Incidents_IMC'] / merged_df['Total_Incidents']\n",
    "\n"
   ]
  },
  {
   "cell_type": "code",
   "execution_count": 8,
   "metadata": {},
   "outputs": [
    {
     "data": {
      "text/html": [
       "\n",
       "<style>\n",
       "  #altair-viz-0d1de20db5a74625b2c67e0c1f42b587.vega-embed {\n",
       "    width: 100%;\n",
       "    display: flex;\n",
       "  }\n",
       "\n",
       "  #altair-viz-0d1de20db5a74625b2c67e0c1f42b587.vega-embed details,\n",
       "  #altair-viz-0d1de20db5a74625b2c67e0c1f42b587.vega-embed details summary {\n",
       "    position: relative;\n",
       "  }\n",
       "</style>\n",
       "<div id=\"altair-viz-0d1de20db5a74625b2c67e0c1f42b587\"></div>\n",
       "<script type=\"text/javascript\">\n",
       "  var VEGA_DEBUG = (typeof VEGA_DEBUG == \"undefined\") ? {} : VEGA_DEBUG;\n",
       "  (function(spec, embedOpt){\n",
       "    let outputDiv = document.currentScript.previousElementSibling;\n",
       "    if (outputDiv.id !== \"altair-viz-0d1de20db5a74625b2c67e0c1f42b587\") {\n",
       "      outputDiv = document.getElementById(\"altair-viz-0d1de20db5a74625b2c67e0c1f42b587\");\n",
       "    }\n",
       "    const paths = {\n",
       "      \"vega\": \"https://cdn.jsdelivr.net/npm/vega@5?noext\",\n",
       "      \"vega-lib\": \"https://cdn.jsdelivr.net/npm/vega-lib?noext\",\n",
       "      \"vega-lite\": \"https://cdn.jsdelivr.net/npm/vega-lite@5.8.0?noext\",\n",
       "      \"vega-embed\": \"https://cdn.jsdelivr.net/npm/vega-embed@6?noext\",\n",
       "    };\n",
       "\n",
       "    function maybeLoadScript(lib, version) {\n",
       "      var key = `${lib.replace(\"-\", \"\")}_version`;\n",
       "      return (VEGA_DEBUG[key] == version) ?\n",
       "        Promise.resolve(paths[lib]) :\n",
       "        new Promise(function(resolve, reject) {\n",
       "          var s = document.createElement('script');\n",
       "          document.getElementsByTagName(\"head\")[0].appendChild(s);\n",
       "          s.async = true;\n",
       "          s.onload = () => {\n",
       "            VEGA_DEBUG[key] = version;\n",
       "            return resolve(paths[lib]);\n",
       "          };\n",
       "          s.onerror = () => reject(`Error loading script: ${paths[lib]}`);\n",
       "          s.src = paths[lib];\n",
       "        });\n",
       "    }\n",
       "\n",
       "    function showError(err) {\n",
       "      outputDiv.innerHTML = `<div class=\"error\" style=\"color:red;\">${err}</div>`;\n",
       "      throw err;\n",
       "    }\n",
       "\n",
       "    function displayChart(vegaEmbed) {\n",
       "      vegaEmbed(outputDiv, spec, embedOpt)\n",
       "        .catch(err => showError(`Javascript Error: ${err.message}<br>This usually means there's a typo in your chart specification. See the javascript console for the full traceback.`));\n",
       "    }\n",
       "\n",
       "    if(typeof define === \"function\" && define.amd) {\n",
       "      requirejs.config({paths});\n",
       "      require([\"vega-embed\"], displayChart, err => showError(`Error loading script: ${err.message}`));\n",
       "    } else {\n",
       "      maybeLoadScript(\"vega\", \"5\")\n",
       "        .then(() => maybeLoadScript(\"vega-lite\", \"5.8.0\"))\n",
       "        .then(() => maybeLoadScript(\"vega-embed\", \"6\"))\n",
       "        .catch(showError)\n",
       "        .then(() => displayChart(vegaEmbed));\n",
       "    }\n",
       "  })({\"config\": {\"view\": {\"continuousWidth\": 300, \"continuousHeight\": 300}}, \"data\": {\"name\": \"data-c1e993fe9305d7083a4f4ce60a9e2f6f\"}, \"mark\": {\"type\": \"circle\"}, \"encoding\": {\"color\": {\"field\": \"Risk_Tier\", \"type\": \"nominal\"}, \"tooltip\": [{\"field\": \"Aircraft\", \"type\": \"nominal\"}, {\"field\": \"Total_Incidents\", \"type\": \"quantitative\"}, {\"field\": \"Proportion_VMC\", \"type\": \"quantitative\"}, {\"field\": \"Risk_Tier\", \"type\": \"nominal\"}], \"x\": {\"axis\": {\"title\": \"Total Incidents\"}, \"field\": \"Total_Incidents\", \"type\": \"quantitative\"}, \"y\": {\"axis\": {\"title\": \"Proportion of Incidents in VMC\"}, \"field\": \"Proportion_VMC\", \"type\": \"quantitative\"}}, \"params\": [{\"name\": \"param_1\", \"select\": {\"type\": \"interval\", \"encodings\": [\"x\", \"y\"]}, \"bind\": \"scales\"}], \"title\": \"Total Incidents vs. Proportion of Incidents in VMC (Aircraft with 100+ Incidents)\", \"$schema\": \"https://vega.github.io/schema/vega-lite/v5.8.0.json\", \"datasets\": {\"data-c1e993fe9305d7083a4f4ce60a9e2f6f\": [{\"Aircraft\": \"CESSNA 172\", \"Total_Incidents\": 499, \"High_Severity_Incidents\": 96.0, \"Medium_Severity_Incidents\": 77.0, \"Low_Severity_Incidents\": 45.0, \"Weighted_Risk_Score\": 487.0, \"Risk_Tier\": \"Very High\", \"Incidents_VMC\": 6.0, \"Incidents_IMC\": 410.0, \"Proportion_VMC\": 0.012024048096192385, \"Proportion_IMC\": 0.8216432865731463}, {\"Aircraft\": \"BOEING 737\", \"Total_Incidents\": 435, \"High_Severity_Incidents\": 16.0, \"Medium_Severity_Incidents\": 31.0, \"Low_Severity_Incidents\": 28.0, \"Weighted_Risk_Score\": 138.0, \"Risk_Tier\": \"Medium\", \"Incidents_VMC\": 6.0, \"Incidents_IMC\": 13.0, \"Proportion_VMC\": 0.013793103448275862, \"Proportion_IMC\": 0.029885057471264367}, {\"Aircraft\": \"Cessna 172\", \"Total_Incidents\": 317, \"High_Severity_Incidents\": 44.0, \"Medium_Severity_Incidents\": 45.0, \"Low_Severity_Incidents\": 32.0, \"Weighted_Risk_Score\": 254.0, \"Risk_Tier\": \"Very High\", \"Incidents_VMC\": 10.0, \"Incidents_IMC\": 285.0, \"Proportion_VMC\": 0.031545741324921134, \"Proportion_IMC\": 0.8990536277602523}, {\"Aircraft\": \"CESSNA 152\", \"Total_Incidents\": 198, \"High_Severity_Incidents\": 28.0, \"Medium_Severity_Incidents\": 26.0, \"Low_Severity_Incidents\": 11.0, \"Weighted_Risk_Score\": 147.0, \"Risk_Tier\": \"High\", \"Incidents_VMC\": 3.0, \"Incidents_IMC\": 169.0, \"Proportion_VMC\": 0.015151515151515152, \"Proportion_IMC\": 0.8535353535353535}, {\"Aircraft\": \"CESSNA 182\", \"Total_Incidents\": 195, \"High_Severity_Incidents\": 56.0, \"Medium_Severity_Incidents\": 38.0, \"Low_Severity_Incidents\": 18.0, \"Weighted_Risk_Score\": 262.0, \"Risk_Tier\": \"Very High\", \"Incidents_VMC\": 11.0, \"Incidents_IMC\": 135.0, \"Proportion_VMC\": 0.05641025641025641, \"Proportion_IMC\": 0.6923076923076923}, {\"Aircraft\": \"CESSNA 172S\", \"Total_Incidents\": 185, \"High_Severity_Incidents\": 25.0, \"Medium_Severity_Incidents\": 20.0, \"Low_Severity_Incidents\": 11.0, \"Weighted_Risk_Score\": 126.0, \"Risk_Tier\": \"Medium\", \"Incidents_VMC\": 3.0, \"Incidents_IMC\": 172.0, \"Proportion_VMC\": 0.016216216216216217, \"Proportion_IMC\": 0.9297297297297298}, {\"Aircraft\": \"Cessna 152\", \"Total_Incidents\": 183, \"High_Severity_Incidents\": 10.0, \"Medium_Severity_Incidents\": 15.0, \"Low_Severity_Incidents\": 26.0, \"Weighted_Risk_Score\": 86.0, \"Risk_Tier\": \"Low\", \"Incidents_VMC\": 2.0, \"Incidents_IMC\": 179.0, \"Proportion_VMC\": 0.01092896174863388, \"Proportion_IMC\": 0.9781420765027322}, {\"Aircraft\": \"PIPER PA28\", \"Total_Incidents\": 183, \"High_Severity_Incidents\": 49.0, \"Medium_Severity_Incidents\": 30.0, \"Low_Severity_Incidents\": 21.0, \"Weighted_Risk_Score\": 228.0, \"Risk_Tier\": \"Very High\", \"Incidents_VMC\": 10.0, \"Incidents_IMC\": 134.0, \"Proportion_VMC\": 0.0546448087431694, \"Proportion_IMC\": 0.73224043715847}, {\"Aircraft\": \"CESSNA 172N\", \"Total_Incidents\": 167, \"High_Severity_Incidents\": 30.0, \"Medium_Severity_Incidents\": 34.0, \"Low_Severity_Incidents\": 19.0, \"Weighted_Risk_Score\": 177.0, \"Risk_Tier\": \"High\", \"Incidents_VMC\": 4.0, \"Incidents_IMC\": 148.0, \"Proportion_VMC\": 0.023952095808383235, \"Proportion_IMC\": 0.8862275449101796}, {\"Aircraft\": \"Cessna 172N\", \"Total_Incidents\": 144, \"High_Severity_Incidents\": 21.0, \"Medium_Severity_Incidents\": 8.0, \"Low_Severity_Incidents\": 20.0, \"Weighted_Risk_Score\": 99.0, \"Risk_Tier\": \"Low\", \"Incidents_VMC\": 7.0, \"Incidents_IMC\": 136.0, \"Proportion_VMC\": 0.04861111111111111, \"Proportion_IMC\": 0.9444444444444444}, {\"Aircraft\": \"CIRRUS DESIGN CORP SR22\", \"Total_Incidents\": 143, \"High_Severity_Incidents\": 47.0, \"Medium_Severity_Incidents\": 22.0, \"Low_Severity_Incidents\": 18.0, \"Weighted_Risk_Score\": 203.0, \"Risk_Tier\": \"Very High\", \"Incidents_VMC\": 19.0, \"Incidents_IMC\": 113.0, \"Proportion_VMC\": 0.13286713286713286, \"Proportion_IMC\": 0.7902097902097902}, {\"Aircraft\": \"ROBINSON R44\", \"Total_Incidents\": 143, \"High_Severity_Incidents\": 80.0, \"Medium_Severity_Incidents\": 20.0, \"Low_Severity_Incidents\": 28.0, \"Weighted_Risk_Score\": 308.0, \"Risk_Tier\": \"Very High\", \"Incidents_VMC\": 5.0, \"Incidents_IMC\": 35.0, \"Proportion_VMC\": 0.03496503496503497, \"Proportion_IMC\": 0.24475524475524477}, {\"Aircraft\": \"Cessna 172S\", \"Total_Incidents\": 142, \"High_Severity_Incidents\": 12.0, \"Medium_Severity_Incidents\": 8.0, \"Low_Severity_Incidents\": 9.0, \"Weighted_Risk_Score\": 61.0, \"Risk_Tier\": \"Low\", \"Incidents_VMC\": 2.0, \"Incidents_IMC\": 140.0, \"Proportion_VMC\": 0.014084507042253521, \"Proportion_IMC\": 0.9859154929577465}, {\"Aircraft\": \"ROBINSON HELICOPTER COMPANY R44 II\", \"Total_Incidents\": 139, \"High_Severity_Incidents\": 22.0, \"Medium_Severity_Incidents\": 37.0, \"Low_Severity_Incidents\": 22.0, \"Weighted_Risk_Score\": 162.0, \"Risk_Tier\": \"High\", \"Incidents_VMC\": 2.0, \"Incidents_IMC\": 123.0, \"Proportion_VMC\": 0.014388489208633094, \"Proportion_IMC\": 0.8848920863309353}, {\"Aircraft\": \"PIPER PA-18-150\", \"Total_Incidents\": 134, \"High_Severity_Incidents\": 7.0, \"Medium_Severity_Incidents\": 21.0, \"Low_Severity_Incidents\": 4.0, \"Weighted_Risk_Score\": 67.0, \"Risk_Tier\": \"Low\", \"Incidents_VMC\": 2.0, \"Incidents_IMC\": 126.0, \"Proportion_VMC\": 0.014925373134328358, \"Proportion_IMC\": 0.9402985074626866}, {\"Aircraft\": \"CESSNA 172M\", \"Total_Incidents\": 131, \"High_Severity_Incidents\": 21.0, \"Medium_Severity_Incidents\": 22.0, \"Low_Severity_Incidents\": 16.0, \"Weighted_Risk_Score\": 123.0, \"Risk_Tier\": \"Medium\", \"Incidents_VMC\": 5.0, \"Incidents_IMC\": 121.0, \"Proportion_VMC\": 0.03816793893129771, \"Proportion_IMC\": 0.9236641221374046}, {\"Aircraft\": \"CESSNA 180\", \"Total_Incidents\": 127, \"High_Severity_Incidents\": 6.0, \"Medium_Severity_Incidents\": 17.0, \"Low_Severity_Incidents\": 7.0, \"Weighted_Risk_Score\": 59.0, \"Risk_Tier\": \"Low\", \"Incidents_VMC\": 2.0, \"Incidents_IMC\": 123.0, \"Proportion_VMC\": 0.015748031496062992, \"Proportion_IMC\": 0.968503937007874}, {\"Aircraft\": \"BEECH A36\", \"Total_Incidents\": 126, \"High_Severity_Incidents\": 45.0, \"Medium_Severity_Incidents\": 21.0, \"Low_Severity_Incidents\": 23.0, \"Weighted_Risk_Score\": 200.0, \"Risk_Tier\": \"Very High\", \"Incidents_VMC\": 20.0, \"Incidents_IMC\": 99.0, \"Proportion_VMC\": 0.15873015873015872, \"Proportion_IMC\": 0.7857142857142857}, {\"Aircraft\": \"Cessna 182\", \"Total_Incidents\": 123, \"High_Severity_Incidents\": 21.0, \"Medium_Severity_Incidents\": 14.0, \"Low_Severity_Incidents\": 17.0, \"Weighted_Risk_Score\": 108.0, \"Risk_Tier\": \"Low\", \"Incidents_VMC\": 6.0, \"Incidents_IMC\": 111.0, \"Proportion_VMC\": 0.04878048780487805, \"Proportion_IMC\": 0.9024390243902439}, {\"Aircraft\": \"PIPER PA-28-140\", \"Total_Incidents\": 120, \"High_Severity_Incidents\": 26.0, \"Medium_Severity_Incidents\": 30.0, \"Low_Severity_Incidents\": 27.0, \"Weighted_Risk_Score\": 165.0, \"Risk_Tier\": \"High\", \"Incidents_VMC\": 2.0, \"Incidents_IMC\": 106.0, \"Proportion_VMC\": 0.016666666666666666, \"Proportion_IMC\": 0.8833333333333333}, {\"Aircraft\": \"Robinson R44\", \"Total_Incidents\": 116, \"High_Severity_Incidents\": 34.0, \"Medium_Severity_Incidents\": 25.0, \"Low_Severity_Incidents\": 23.0, \"Weighted_Risk_Score\": 175.0, \"Risk_Tier\": \"High\", \"Incidents_VMC\": 7.0, \"Incidents_IMC\": 92.0, \"Proportion_VMC\": 0.0603448275862069, \"Proportion_IMC\": 0.7931034482758621}, {\"Aircraft\": \"BELL 206\", \"Total_Incidents\": 116, \"High_Severity_Incidents\": 45.0, \"Medium_Severity_Incidents\": 20.0, \"Low_Severity_Incidents\": 19.0, \"Weighted_Risk_Score\": 194.0, \"Risk_Tier\": \"High\", \"Incidents_VMC\": 3.0, \"Incidents_IMC\": 59.0, \"Proportion_VMC\": 0.02586206896551724, \"Proportion_IMC\": 0.5086206896551724}, {\"Aircraft\": \"Cessna 180\", \"Total_Incidents\": 115, \"High_Severity_Incidents\": 11.0, \"Medium_Severity_Incidents\": 12.0, \"Low_Severity_Incidents\": 11.0, \"Weighted_Risk_Score\": 68.0, \"Risk_Tier\": \"Low\", \"Incidents_VMC\": 2.0, \"Incidents_IMC\": 110.0, \"Proportion_VMC\": 0.017391304347826087, \"Proportion_IMC\": 0.9565217391304348}, {\"Aircraft\": \"CESSNA 150\", \"Total_Incidents\": 113, \"High_Severity_Incidents\": 31.0, \"Medium_Severity_Incidents\": 11.0, \"Low_Severity_Incidents\": 14.0, \"Weighted_Risk_Score\": 129.0, \"Risk_Tier\": \"Medium\", \"Incidents_VMC\": 4.0, \"Incidents_IMC\": 79.0, \"Proportion_VMC\": 0.035398230088495575, \"Proportion_IMC\": 0.6991150442477876}, {\"Aircraft\": \"ROBINSON HELICOPTER R22 BETA\", \"Total_Incidents\": 110, \"High_Severity_Incidents\": 14.0, \"Medium_Severity_Incidents\": 32.0, \"Low_Severity_Incidents\": 14.0, \"Weighted_Risk_Score\": 120.0, \"Risk_Tier\": \"Medium\", \"Incidents_VMC\": 1.0, \"Incidents_IMC\": 107.0, \"Proportion_VMC\": 0.00909090909090909, \"Proportion_IMC\": 0.9727272727272728}, {\"Aircraft\": \"Piper PA-28-140\", \"Total_Incidents\": 104, \"High_Severity_Incidents\": 26.0, \"Medium_Severity_Incidents\": 18.0, \"Low_Severity_Incidents\": 27.0, \"Weighted_Risk_Score\": 141.0, \"Risk_Tier\": \"Medium\", \"Incidents_VMC\": 8.0, \"Incidents_IMC\": 93.0, \"Proportion_VMC\": 0.07692307692307693, \"Proportion_IMC\": 0.8942307692307693}]}}, {\"mode\": \"vega-lite\"});\n",
       "</script>"
      ],
      "text/plain": [
       "alt.Chart(...)"
      ]
     },
     "execution_count": 8,
     "metadata": {},
     "output_type": "execute_result"
    }
   ],
   "source": [
    "# Scatter plot 1: `Total_Incidents` (x-axis) vs. `Proportion_VMC` (y-axis), colored by `Risk_Tier`\n",
    "chart1 = alt.Chart(merged_df).mark_circle().encode(\n",
    "    x=alt.X('Total_Incidents', axis=alt.Axis(title='Total Incidents')),\n",
    "    y=alt.Y('Proportion_VMC', axis=alt.Axis(title='Proportion of Incidents in VMC')),\n",
    "    color='Risk_Tier',\n",
    "    tooltip=['Aircraft', 'Total_Incidents', 'Proportion_VMC', 'Risk_Tier']\n",
    ").properties(\n",
    "    title='Total Incidents vs. Proportion of Incidents in VMC (Aircraft with 100+ Incidents)'\n",
    ").interactive()\n",
    "chart1\n"
   ]
  },
  {
   "cell_type": "code",
   "execution_count": 9,
   "metadata": {},
   "outputs": [
    {
     "data": {
      "text/html": [
       "\n",
       "<style>\n",
       "  #altair-viz-7a371cc63a424b779339f033a4667afd.vega-embed {\n",
       "    width: 100%;\n",
       "    display: flex;\n",
       "  }\n",
       "\n",
       "  #altair-viz-7a371cc63a424b779339f033a4667afd.vega-embed details,\n",
       "  #altair-viz-7a371cc63a424b779339f033a4667afd.vega-embed details summary {\n",
       "    position: relative;\n",
       "  }\n",
       "</style>\n",
       "<div id=\"altair-viz-7a371cc63a424b779339f033a4667afd\"></div>\n",
       "<script type=\"text/javascript\">\n",
       "  var VEGA_DEBUG = (typeof VEGA_DEBUG == \"undefined\") ? {} : VEGA_DEBUG;\n",
       "  (function(spec, embedOpt){\n",
       "    let outputDiv = document.currentScript.previousElementSibling;\n",
       "    if (outputDiv.id !== \"altair-viz-7a371cc63a424b779339f033a4667afd\") {\n",
       "      outputDiv = document.getElementById(\"altair-viz-7a371cc63a424b779339f033a4667afd\");\n",
       "    }\n",
       "    const paths = {\n",
       "      \"vega\": \"https://cdn.jsdelivr.net/npm/vega@5?noext\",\n",
       "      \"vega-lib\": \"https://cdn.jsdelivr.net/npm/vega-lib?noext\",\n",
       "      \"vega-lite\": \"https://cdn.jsdelivr.net/npm/vega-lite@5.8.0?noext\",\n",
       "      \"vega-embed\": \"https://cdn.jsdelivr.net/npm/vega-embed@6?noext\",\n",
       "    };\n",
       "\n",
       "    function maybeLoadScript(lib, version) {\n",
       "      var key = `${lib.replace(\"-\", \"\")}_version`;\n",
       "      return (VEGA_DEBUG[key] == version) ?\n",
       "        Promise.resolve(paths[lib]) :\n",
       "        new Promise(function(resolve, reject) {\n",
       "          var s = document.createElement('script');\n",
       "          document.getElementsByTagName(\"head\")[0].appendChild(s);\n",
       "          s.async = true;\n",
       "          s.onload = () => {\n",
       "            VEGA_DEBUG[key] = version;\n",
       "            return resolve(paths[lib]);\n",
       "          };\n",
       "          s.onerror = () => reject(`Error loading script: ${paths[lib]}`);\n",
       "          s.src = paths[lib];\n",
       "        });\n",
       "    }\n",
       "\n",
       "    function showError(err) {\n",
       "      outputDiv.innerHTML = `<div class=\"error\" style=\"color:red;\">${err}</div>`;\n",
       "      throw err;\n",
       "    }\n",
       "\n",
       "    function displayChart(vegaEmbed) {\n",
       "      vegaEmbed(outputDiv, spec, embedOpt)\n",
       "        .catch(err => showError(`Javascript Error: ${err.message}<br>This usually means there's a typo in your chart specification. See the javascript console for the full traceback.`));\n",
       "    }\n",
       "\n",
       "    if(typeof define === \"function\" && define.amd) {\n",
       "      requirejs.config({paths});\n",
       "      require([\"vega-embed\"], displayChart, err => showError(`Error loading script: ${err.message}`));\n",
       "    } else {\n",
       "      maybeLoadScript(\"vega\", \"5\")\n",
       "        .then(() => maybeLoadScript(\"vega-lite\", \"5.8.0\"))\n",
       "        .then(() => maybeLoadScript(\"vega-embed\", \"6\"))\n",
       "        .catch(showError)\n",
       "        .then(() => displayChart(vegaEmbed));\n",
       "    }\n",
       "  })({\"config\": {\"view\": {\"continuousWidth\": 300, \"continuousHeight\": 300}}, \"data\": {\"name\": \"data-087c4d485b4599c1a237e0fe30243340\"}, \"mark\": {\"type\": \"circle\"}, \"encoding\": {\"tooltip\": [{\"field\": \"Aircraft\", \"type\": \"nominal\"}, {\"field\": \"Total_Incidents\", \"type\": \"quantitative\"}, {\"field\": \"Weighted_Risk_Score\", \"type\": \"quantitative\"}], \"x\": {\"axis\": {\"title\": \"Total Incidents\"}, \"field\": \"Total_Incidents\", \"type\": \"quantitative\"}, \"y\": {\"axis\": {\"title\": \"Weighted Risk Score\"}, \"field\": \"Weighted_Risk_Score\", \"type\": \"quantitative\"}}, \"params\": [{\"name\": \"param_2\", \"select\": {\"type\": \"interval\", \"encodings\": [\"x\", \"y\"]}, \"bind\": \"scales\"}], \"title\": \"Total Incidents vs. Weighted Risk Score (Aircraft with 100+ Incidents)\", \"$schema\": \"https://vega.github.io/schema/vega-lite/v5.8.0.json\", \"datasets\": {\"data-087c4d485b4599c1a237e0fe30243340\": [{\"Aircraft\": \"CESSNA 172\", \"Total_Incidents\": 499, \"High_Severity_Incidents\": 96.0, \"Medium_Severity_Incidents\": 77.0, \"Low_Severity_Incidents\": 45.0, \"Weighted_Risk_Score\": 487.0, \"Risk_Tier\": \"Very High\"}, {\"Aircraft\": \"BOEING 737\", \"Total_Incidents\": 435, \"High_Severity_Incidents\": 16.0, \"Medium_Severity_Incidents\": 31.0, \"Low_Severity_Incidents\": 28.0, \"Weighted_Risk_Score\": 138.0, \"Risk_Tier\": \"Medium\"}, {\"Aircraft\": \"Cessna 172\", \"Total_Incidents\": 317, \"High_Severity_Incidents\": 44.0, \"Medium_Severity_Incidents\": 45.0, \"Low_Severity_Incidents\": 32.0, \"Weighted_Risk_Score\": 254.0, \"Risk_Tier\": \"Very High\"}, {\"Aircraft\": \"CESSNA 152\", \"Total_Incidents\": 198, \"High_Severity_Incidents\": 28.0, \"Medium_Severity_Incidents\": 26.0, \"Low_Severity_Incidents\": 11.0, \"Weighted_Risk_Score\": 147.0, \"Risk_Tier\": \"High\"}, {\"Aircraft\": \"CESSNA 182\", \"Total_Incidents\": 195, \"High_Severity_Incidents\": 56.0, \"Medium_Severity_Incidents\": 38.0, \"Low_Severity_Incidents\": 18.0, \"Weighted_Risk_Score\": 262.0, \"Risk_Tier\": \"Very High\"}, {\"Aircraft\": \"CESSNA 172S\", \"Total_Incidents\": 185, \"High_Severity_Incidents\": 25.0, \"Medium_Severity_Incidents\": 20.0, \"Low_Severity_Incidents\": 11.0, \"Weighted_Risk_Score\": 126.0, \"Risk_Tier\": \"Medium\"}, {\"Aircraft\": \"Cessna 152\", \"Total_Incidents\": 183, \"High_Severity_Incidents\": 10.0, \"Medium_Severity_Incidents\": 15.0, \"Low_Severity_Incidents\": 26.0, \"Weighted_Risk_Score\": 86.0, \"Risk_Tier\": \"Low\"}, {\"Aircraft\": \"PIPER PA28\", \"Total_Incidents\": 183, \"High_Severity_Incidents\": 49.0, \"Medium_Severity_Incidents\": 30.0, \"Low_Severity_Incidents\": 21.0, \"Weighted_Risk_Score\": 228.0, \"Risk_Tier\": \"Very High\"}, {\"Aircraft\": \"CESSNA 172N\", \"Total_Incidents\": 167, \"High_Severity_Incidents\": 30.0, \"Medium_Severity_Incidents\": 34.0, \"Low_Severity_Incidents\": 19.0, \"Weighted_Risk_Score\": 177.0, \"Risk_Tier\": \"High\"}, {\"Aircraft\": \"Cessna 172N\", \"Total_Incidents\": 144, \"High_Severity_Incidents\": 21.0, \"Medium_Severity_Incidents\": 8.0, \"Low_Severity_Incidents\": 20.0, \"Weighted_Risk_Score\": 99.0, \"Risk_Tier\": \"Low\"}, {\"Aircraft\": \"CIRRUS DESIGN CORP SR22\", \"Total_Incidents\": 143, \"High_Severity_Incidents\": 47.0, \"Medium_Severity_Incidents\": 22.0, \"Low_Severity_Incidents\": 18.0, \"Weighted_Risk_Score\": 203.0, \"Risk_Tier\": \"Very High\"}, {\"Aircraft\": \"ROBINSON R44\", \"Total_Incidents\": 143, \"High_Severity_Incidents\": 80.0, \"Medium_Severity_Incidents\": 20.0, \"Low_Severity_Incidents\": 28.0, \"Weighted_Risk_Score\": 308.0, \"Risk_Tier\": \"Very High\"}, {\"Aircraft\": \"Cessna 172S\", \"Total_Incidents\": 142, \"High_Severity_Incidents\": 12.0, \"Medium_Severity_Incidents\": 8.0, \"Low_Severity_Incidents\": 9.0, \"Weighted_Risk_Score\": 61.0, \"Risk_Tier\": \"Low\"}, {\"Aircraft\": \"ROBINSON HELICOPTER COMPANY R44 II\", \"Total_Incidents\": 139, \"High_Severity_Incidents\": 22.0, \"Medium_Severity_Incidents\": 37.0, \"Low_Severity_Incidents\": 22.0, \"Weighted_Risk_Score\": 162.0, \"Risk_Tier\": \"High\"}, {\"Aircraft\": \"PIPER PA-18-150\", \"Total_Incidents\": 134, \"High_Severity_Incidents\": 7.0, \"Medium_Severity_Incidents\": 21.0, \"Low_Severity_Incidents\": 4.0, \"Weighted_Risk_Score\": 67.0, \"Risk_Tier\": \"Low\"}, {\"Aircraft\": \"CESSNA 172M\", \"Total_Incidents\": 131, \"High_Severity_Incidents\": 21.0, \"Medium_Severity_Incidents\": 22.0, \"Low_Severity_Incidents\": 16.0, \"Weighted_Risk_Score\": 123.0, \"Risk_Tier\": \"Medium\"}, {\"Aircraft\": \"CESSNA 180\", \"Total_Incidents\": 127, \"High_Severity_Incidents\": 6.0, \"Medium_Severity_Incidents\": 17.0, \"Low_Severity_Incidents\": 7.0, \"Weighted_Risk_Score\": 59.0, \"Risk_Tier\": \"Low\"}, {\"Aircraft\": \"BEECH A36\", \"Total_Incidents\": 126, \"High_Severity_Incidents\": 45.0, \"Medium_Severity_Incidents\": 21.0, \"Low_Severity_Incidents\": 23.0, \"Weighted_Risk_Score\": 200.0, \"Risk_Tier\": \"Very High\"}, {\"Aircraft\": \"Cessna 182\", \"Total_Incidents\": 123, \"High_Severity_Incidents\": 21.0, \"Medium_Severity_Incidents\": 14.0, \"Low_Severity_Incidents\": 17.0, \"Weighted_Risk_Score\": 108.0, \"Risk_Tier\": \"Low\"}, {\"Aircraft\": \"PIPER PA-28-140\", \"Total_Incidents\": 120, \"High_Severity_Incidents\": 26.0, \"Medium_Severity_Incidents\": 30.0, \"Low_Severity_Incidents\": 27.0, \"Weighted_Risk_Score\": 165.0, \"Risk_Tier\": \"High\"}, {\"Aircraft\": \"Robinson R44\", \"Total_Incidents\": 116, \"High_Severity_Incidents\": 34.0, \"Medium_Severity_Incidents\": 25.0, \"Low_Severity_Incidents\": 23.0, \"Weighted_Risk_Score\": 175.0, \"Risk_Tier\": \"High\"}, {\"Aircraft\": \"BELL 206\", \"Total_Incidents\": 116, \"High_Severity_Incidents\": 45.0, \"Medium_Severity_Incidents\": 20.0, \"Low_Severity_Incidents\": 19.0, \"Weighted_Risk_Score\": 194.0, \"Risk_Tier\": \"High\"}, {\"Aircraft\": \"Cessna 180\", \"Total_Incidents\": 115, \"High_Severity_Incidents\": 11.0, \"Medium_Severity_Incidents\": 12.0, \"Low_Severity_Incidents\": 11.0, \"Weighted_Risk_Score\": 68.0, \"Risk_Tier\": \"Low\"}, {\"Aircraft\": \"CESSNA 150\", \"Total_Incidents\": 113, \"High_Severity_Incidents\": 31.0, \"Medium_Severity_Incidents\": 11.0, \"Low_Severity_Incidents\": 14.0, \"Weighted_Risk_Score\": 129.0, \"Risk_Tier\": \"Medium\"}, {\"Aircraft\": \"ROBINSON HELICOPTER R22 BETA\", \"Total_Incidents\": 110, \"High_Severity_Incidents\": 14.0, \"Medium_Severity_Incidents\": 32.0, \"Low_Severity_Incidents\": 14.0, \"Weighted_Risk_Score\": 120.0, \"Risk_Tier\": \"Medium\"}, {\"Aircraft\": \"Piper PA-28-140\", \"Total_Incidents\": 104, \"High_Severity_Incidents\": 26.0, \"Medium_Severity_Incidents\": 18.0, \"Low_Severity_Incidents\": 27.0, \"Weighted_Risk_Score\": 141.0, \"Risk_Tier\": \"Medium\"}]}}, {\"mode\": \"vega-lite\"});\n",
       "</script>"
      ],
      "text/plain": [
       "alt.Chart(...)"
      ]
     },
     "execution_count": 9,
     "metadata": {},
     "output_type": "execute_result"
    }
   ],
   "source": [
    "# Create a scatter plot\n",
    "chart = alt.Chart(aircraft_incident_summary_filtered).mark_circle().encode(\n",
    "    x=alt.X('Total_Incidents', axis=alt.Axis(title='Total Incidents')),\n",
    "    y=alt.Y('Weighted_Risk_Score', axis=alt.Axis(title='Weighted Risk Score')),\n",
    "    tooltip=['Aircraft', 'Total_Incidents', 'Weighted_Risk_Score']\n",
    ").properties(\n",
    "    title='Total Incidents vs. Weighted Risk Score (Aircraft with 100+ Incidents)'\n",
    ").interactive()\n",
    "chart\n",
    "# Save the chart\n",
    "#chart.save('total_incidents_vs_weighted_risk_score_scatter_plot.json')\n"
   ]
  },
  {
   "cell_type": "markdown",
   "metadata": {
    "tags": []
   },
   "source": [
    "#### Total Incidents vs. Proportion of Incidents in IMC"
   ]
  },
  {
   "cell_type": "code",
   "execution_count": 10,
   "metadata": {},
   "outputs": [
    {
     "data": {
      "text/html": [
       "\n",
       "<style>\n",
       "  #altair-viz-ef302c5b33b141feab5a393f201b2394.vega-embed {\n",
       "    width: 100%;\n",
       "    display: flex;\n",
       "  }\n",
       "\n",
       "  #altair-viz-ef302c5b33b141feab5a393f201b2394.vega-embed details,\n",
       "  #altair-viz-ef302c5b33b141feab5a393f201b2394.vega-embed details summary {\n",
       "    position: relative;\n",
       "  }\n",
       "</style>\n",
       "<div id=\"altair-viz-ef302c5b33b141feab5a393f201b2394\"></div>\n",
       "<script type=\"text/javascript\">\n",
       "  var VEGA_DEBUG = (typeof VEGA_DEBUG == \"undefined\") ? {} : VEGA_DEBUG;\n",
       "  (function(spec, embedOpt){\n",
       "    let outputDiv = document.currentScript.previousElementSibling;\n",
       "    if (outputDiv.id !== \"altair-viz-ef302c5b33b141feab5a393f201b2394\") {\n",
       "      outputDiv = document.getElementById(\"altair-viz-ef302c5b33b141feab5a393f201b2394\");\n",
       "    }\n",
       "    const paths = {\n",
       "      \"vega\": \"https://cdn.jsdelivr.net/npm/vega@5?noext\",\n",
       "      \"vega-lib\": \"https://cdn.jsdelivr.net/npm/vega-lib?noext\",\n",
       "      \"vega-lite\": \"https://cdn.jsdelivr.net/npm/vega-lite@5.8.0?noext\",\n",
       "      \"vega-embed\": \"https://cdn.jsdelivr.net/npm/vega-embed@6?noext\",\n",
       "    };\n",
       "\n",
       "    function maybeLoadScript(lib, version) {\n",
       "      var key = `${lib.replace(\"-\", \"\")}_version`;\n",
       "      return (VEGA_DEBUG[key] == version) ?\n",
       "        Promise.resolve(paths[lib]) :\n",
       "        new Promise(function(resolve, reject) {\n",
       "          var s = document.createElement('script');\n",
       "          document.getElementsByTagName(\"head\")[0].appendChild(s);\n",
       "          s.async = true;\n",
       "          s.onload = () => {\n",
       "            VEGA_DEBUG[key] = version;\n",
       "            return resolve(paths[lib]);\n",
       "          };\n",
       "          s.onerror = () => reject(`Error loading script: ${paths[lib]}`);\n",
       "          s.src = paths[lib];\n",
       "        });\n",
       "    }\n",
       "\n",
       "    function showError(err) {\n",
       "      outputDiv.innerHTML = `<div class=\"error\" style=\"color:red;\">${err}</div>`;\n",
       "      throw err;\n",
       "    }\n",
       "\n",
       "    function displayChart(vegaEmbed) {\n",
       "      vegaEmbed(outputDiv, spec, embedOpt)\n",
       "        .catch(err => showError(`Javascript Error: ${err.message}<br>This usually means there's a typo in your chart specification. See the javascript console for the full traceback.`));\n",
       "    }\n",
       "\n",
       "    if(typeof define === \"function\" && define.amd) {\n",
       "      requirejs.config({paths});\n",
       "      require([\"vega-embed\"], displayChart, err => showError(`Error loading script: ${err.message}`));\n",
       "    } else {\n",
       "      maybeLoadScript(\"vega\", \"5\")\n",
       "        .then(() => maybeLoadScript(\"vega-lite\", \"5.8.0\"))\n",
       "        .then(() => maybeLoadScript(\"vega-embed\", \"6\"))\n",
       "        .catch(showError)\n",
       "        .then(() => displayChart(vegaEmbed));\n",
       "    }\n",
       "  })({\"config\": {\"view\": {\"continuousWidth\": 300, \"continuousHeight\": 300}}, \"data\": {\"name\": \"data-c1e993fe9305d7083a4f4ce60a9e2f6f\"}, \"mark\": {\"type\": \"circle\"}, \"encoding\": {\"color\": {\"field\": \"Risk_Tier\", \"type\": \"nominal\"}, \"tooltip\": [{\"field\": \"Aircraft\", \"type\": \"nominal\"}, {\"field\": \"Total_Incidents\", \"type\": \"quantitative\"}, {\"field\": \"Proportion_IMC\", \"type\": \"quantitative\"}, {\"field\": \"Risk_Tier\", \"type\": \"nominal\"}], \"x\": {\"axis\": {\"title\": \"Total Incidents\"}, \"field\": \"Total_Incidents\", \"type\": \"quantitative\"}, \"y\": {\"axis\": {\"title\": \"Proportion of Incidents in IMC\"}, \"field\": \"Proportion_IMC\", \"type\": \"quantitative\"}}, \"params\": [{\"name\": \"param_3\", \"select\": {\"type\": \"interval\", \"encodings\": [\"x\", \"y\"]}, \"bind\": \"scales\"}], \"title\": \"Total Incidents vs. Proportion of Incidents in IMC (Aircraft with 100+ Incidents)\", \"$schema\": \"https://vega.github.io/schema/vega-lite/v5.8.0.json\", \"datasets\": {\"data-c1e993fe9305d7083a4f4ce60a9e2f6f\": [{\"Aircraft\": \"CESSNA 172\", \"Total_Incidents\": 499, \"High_Severity_Incidents\": 96.0, \"Medium_Severity_Incidents\": 77.0, \"Low_Severity_Incidents\": 45.0, \"Weighted_Risk_Score\": 487.0, \"Risk_Tier\": \"Very High\", \"Incidents_VMC\": 6.0, \"Incidents_IMC\": 410.0, \"Proportion_VMC\": 0.012024048096192385, \"Proportion_IMC\": 0.8216432865731463}, {\"Aircraft\": \"BOEING 737\", \"Total_Incidents\": 435, \"High_Severity_Incidents\": 16.0, \"Medium_Severity_Incidents\": 31.0, \"Low_Severity_Incidents\": 28.0, \"Weighted_Risk_Score\": 138.0, \"Risk_Tier\": \"Medium\", \"Incidents_VMC\": 6.0, \"Incidents_IMC\": 13.0, \"Proportion_VMC\": 0.013793103448275862, \"Proportion_IMC\": 0.029885057471264367}, {\"Aircraft\": \"Cessna 172\", \"Total_Incidents\": 317, \"High_Severity_Incidents\": 44.0, \"Medium_Severity_Incidents\": 45.0, \"Low_Severity_Incidents\": 32.0, \"Weighted_Risk_Score\": 254.0, \"Risk_Tier\": \"Very High\", \"Incidents_VMC\": 10.0, \"Incidents_IMC\": 285.0, \"Proportion_VMC\": 0.031545741324921134, \"Proportion_IMC\": 0.8990536277602523}, {\"Aircraft\": \"CESSNA 152\", \"Total_Incidents\": 198, \"High_Severity_Incidents\": 28.0, \"Medium_Severity_Incidents\": 26.0, \"Low_Severity_Incidents\": 11.0, \"Weighted_Risk_Score\": 147.0, \"Risk_Tier\": \"High\", \"Incidents_VMC\": 3.0, \"Incidents_IMC\": 169.0, \"Proportion_VMC\": 0.015151515151515152, \"Proportion_IMC\": 0.8535353535353535}, {\"Aircraft\": \"CESSNA 182\", \"Total_Incidents\": 195, \"High_Severity_Incidents\": 56.0, \"Medium_Severity_Incidents\": 38.0, \"Low_Severity_Incidents\": 18.0, \"Weighted_Risk_Score\": 262.0, \"Risk_Tier\": \"Very High\", \"Incidents_VMC\": 11.0, \"Incidents_IMC\": 135.0, \"Proportion_VMC\": 0.05641025641025641, \"Proportion_IMC\": 0.6923076923076923}, {\"Aircraft\": \"CESSNA 172S\", \"Total_Incidents\": 185, \"High_Severity_Incidents\": 25.0, \"Medium_Severity_Incidents\": 20.0, \"Low_Severity_Incidents\": 11.0, \"Weighted_Risk_Score\": 126.0, \"Risk_Tier\": \"Medium\", \"Incidents_VMC\": 3.0, \"Incidents_IMC\": 172.0, \"Proportion_VMC\": 0.016216216216216217, \"Proportion_IMC\": 0.9297297297297298}, {\"Aircraft\": \"Cessna 152\", \"Total_Incidents\": 183, \"High_Severity_Incidents\": 10.0, \"Medium_Severity_Incidents\": 15.0, \"Low_Severity_Incidents\": 26.0, \"Weighted_Risk_Score\": 86.0, \"Risk_Tier\": \"Low\", \"Incidents_VMC\": 2.0, \"Incidents_IMC\": 179.0, \"Proportion_VMC\": 0.01092896174863388, \"Proportion_IMC\": 0.9781420765027322}, {\"Aircraft\": \"PIPER PA28\", \"Total_Incidents\": 183, \"High_Severity_Incidents\": 49.0, \"Medium_Severity_Incidents\": 30.0, \"Low_Severity_Incidents\": 21.0, \"Weighted_Risk_Score\": 228.0, \"Risk_Tier\": \"Very High\", \"Incidents_VMC\": 10.0, \"Incidents_IMC\": 134.0, \"Proportion_VMC\": 0.0546448087431694, \"Proportion_IMC\": 0.73224043715847}, {\"Aircraft\": \"CESSNA 172N\", \"Total_Incidents\": 167, \"High_Severity_Incidents\": 30.0, \"Medium_Severity_Incidents\": 34.0, \"Low_Severity_Incidents\": 19.0, \"Weighted_Risk_Score\": 177.0, \"Risk_Tier\": \"High\", \"Incidents_VMC\": 4.0, \"Incidents_IMC\": 148.0, \"Proportion_VMC\": 0.023952095808383235, \"Proportion_IMC\": 0.8862275449101796}, {\"Aircraft\": \"Cessna 172N\", \"Total_Incidents\": 144, \"High_Severity_Incidents\": 21.0, \"Medium_Severity_Incidents\": 8.0, \"Low_Severity_Incidents\": 20.0, \"Weighted_Risk_Score\": 99.0, \"Risk_Tier\": \"Low\", \"Incidents_VMC\": 7.0, \"Incidents_IMC\": 136.0, \"Proportion_VMC\": 0.04861111111111111, \"Proportion_IMC\": 0.9444444444444444}, {\"Aircraft\": \"CIRRUS DESIGN CORP SR22\", \"Total_Incidents\": 143, \"High_Severity_Incidents\": 47.0, \"Medium_Severity_Incidents\": 22.0, \"Low_Severity_Incidents\": 18.0, \"Weighted_Risk_Score\": 203.0, \"Risk_Tier\": \"Very High\", \"Incidents_VMC\": 19.0, \"Incidents_IMC\": 113.0, \"Proportion_VMC\": 0.13286713286713286, \"Proportion_IMC\": 0.7902097902097902}, {\"Aircraft\": \"ROBINSON R44\", \"Total_Incidents\": 143, \"High_Severity_Incidents\": 80.0, \"Medium_Severity_Incidents\": 20.0, \"Low_Severity_Incidents\": 28.0, \"Weighted_Risk_Score\": 308.0, \"Risk_Tier\": \"Very High\", \"Incidents_VMC\": 5.0, \"Incidents_IMC\": 35.0, \"Proportion_VMC\": 0.03496503496503497, \"Proportion_IMC\": 0.24475524475524477}, {\"Aircraft\": \"Cessna 172S\", \"Total_Incidents\": 142, \"High_Severity_Incidents\": 12.0, \"Medium_Severity_Incidents\": 8.0, \"Low_Severity_Incidents\": 9.0, \"Weighted_Risk_Score\": 61.0, \"Risk_Tier\": \"Low\", \"Incidents_VMC\": 2.0, \"Incidents_IMC\": 140.0, \"Proportion_VMC\": 0.014084507042253521, \"Proportion_IMC\": 0.9859154929577465}, {\"Aircraft\": \"ROBINSON HELICOPTER COMPANY R44 II\", \"Total_Incidents\": 139, \"High_Severity_Incidents\": 22.0, \"Medium_Severity_Incidents\": 37.0, \"Low_Severity_Incidents\": 22.0, \"Weighted_Risk_Score\": 162.0, \"Risk_Tier\": \"High\", \"Incidents_VMC\": 2.0, \"Incidents_IMC\": 123.0, \"Proportion_VMC\": 0.014388489208633094, \"Proportion_IMC\": 0.8848920863309353}, {\"Aircraft\": \"PIPER PA-18-150\", \"Total_Incidents\": 134, \"High_Severity_Incidents\": 7.0, \"Medium_Severity_Incidents\": 21.0, \"Low_Severity_Incidents\": 4.0, \"Weighted_Risk_Score\": 67.0, \"Risk_Tier\": \"Low\", \"Incidents_VMC\": 2.0, \"Incidents_IMC\": 126.0, \"Proportion_VMC\": 0.014925373134328358, \"Proportion_IMC\": 0.9402985074626866}, {\"Aircraft\": \"CESSNA 172M\", \"Total_Incidents\": 131, \"High_Severity_Incidents\": 21.0, \"Medium_Severity_Incidents\": 22.0, \"Low_Severity_Incidents\": 16.0, \"Weighted_Risk_Score\": 123.0, \"Risk_Tier\": \"Medium\", \"Incidents_VMC\": 5.0, \"Incidents_IMC\": 121.0, \"Proportion_VMC\": 0.03816793893129771, \"Proportion_IMC\": 0.9236641221374046}, {\"Aircraft\": \"CESSNA 180\", \"Total_Incidents\": 127, \"High_Severity_Incidents\": 6.0, \"Medium_Severity_Incidents\": 17.0, \"Low_Severity_Incidents\": 7.0, \"Weighted_Risk_Score\": 59.0, \"Risk_Tier\": \"Low\", \"Incidents_VMC\": 2.0, \"Incidents_IMC\": 123.0, \"Proportion_VMC\": 0.015748031496062992, \"Proportion_IMC\": 0.968503937007874}, {\"Aircraft\": \"BEECH A36\", \"Total_Incidents\": 126, \"High_Severity_Incidents\": 45.0, \"Medium_Severity_Incidents\": 21.0, \"Low_Severity_Incidents\": 23.0, \"Weighted_Risk_Score\": 200.0, \"Risk_Tier\": \"Very High\", \"Incidents_VMC\": 20.0, \"Incidents_IMC\": 99.0, \"Proportion_VMC\": 0.15873015873015872, \"Proportion_IMC\": 0.7857142857142857}, {\"Aircraft\": \"Cessna 182\", \"Total_Incidents\": 123, \"High_Severity_Incidents\": 21.0, \"Medium_Severity_Incidents\": 14.0, \"Low_Severity_Incidents\": 17.0, \"Weighted_Risk_Score\": 108.0, \"Risk_Tier\": \"Low\", \"Incidents_VMC\": 6.0, \"Incidents_IMC\": 111.0, \"Proportion_VMC\": 0.04878048780487805, \"Proportion_IMC\": 0.9024390243902439}, {\"Aircraft\": \"PIPER PA-28-140\", \"Total_Incidents\": 120, \"High_Severity_Incidents\": 26.0, \"Medium_Severity_Incidents\": 30.0, \"Low_Severity_Incidents\": 27.0, \"Weighted_Risk_Score\": 165.0, \"Risk_Tier\": \"High\", \"Incidents_VMC\": 2.0, \"Incidents_IMC\": 106.0, \"Proportion_VMC\": 0.016666666666666666, \"Proportion_IMC\": 0.8833333333333333}, {\"Aircraft\": \"Robinson R44\", \"Total_Incidents\": 116, \"High_Severity_Incidents\": 34.0, \"Medium_Severity_Incidents\": 25.0, \"Low_Severity_Incidents\": 23.0, \"Weighted_Risk_Score\": 175.0, \"Risk_Tier\": \"High\", \"Incidents_VMC\": 7.0, \"Incidents_IMC\": 92.0, \"Proportion_VMC\": 0.0603448275862069, \"Proportion_IMC\": 0.7931034482758621}, {\"Aircraft\": \"BELL 206\", \"Total_Incidents\": 116, \"High_Severity_Incidents\": 45.0, \"Medium_Severity_Incidents\": 20.0, \"Low_Severity_Incidents\": 19.0, \"Weighted_Risk_Score\": 194.0, \"Risk_Tier\": \"High\", \"Incidents_VMC\": 3.0, \"Incidents_IMC\": 59.0, \"Proportion_VMC\": 0.02586206896551724, \"Proportion_IMC\": 0.5086206896551724}, {\"Aircraft\": \"Cessna 180\", \"Total_Incidents\": 115, \"High_Severity_Incidents\": 11.0, \"Medium_Severity_Incidents\": 12.0, \"Low_Severity_Incidents\": 11.0, \"Weighted_Risk_Score\": 68.0, \"Risk_Tier\": \"Low\", \"Incidents_VMC\": 2.0, \"Incidents_IMC\": 110.0, \"Proportion_VMC\": 0.017391304347826087, \"Proportion_IMC\": 0.9565217391304348}, {\"Aircraft\": \"CESSNA 150\", \"Total_Incidents\": 113, \"High_Severity_Incidents\": 31.0, \"Medium_Severity_Incidents\": 11.0, \"Low_Severity_Incidents\": 14.0, \"Weighted_Risk_Score\": 129.0, \"Risk_Tier\": \"Medium\", \"Incidents_VMC\": 4.0, \"Incidents_IMC\": 79.0, \"Proportion_VMC\": 0.035398230088495575, \"Proportion_IMC\": 0.6991150442477876}, {\"Aircraft\": \"ROBINSON HELICOPTER R22 BETA\", \"Total_Incidents\": 110, \"High_Severity_Incidents\": 14.0, \"Medium_Severity_Incidents\": 32.0, \"Low_Severity_Incidents\": 14.0, \"Weighted_Risk_Score\": 120.0, \"Risk_Tier\": \"Medium\", \"Incidents_VMC\": 1.0, \"Incidents_IMC\": 107.0, \"Proportion_VMC\": 0.00909090909090909, \"Proportion_IMC\": 0.9727272727272728}, {\"Aircraft\": \"Piper PA-28-140\", \"Total_Incidents\": 104, \"High_Severity_Incidents\": 26.0, \"Medium_Severity_Incidents\": 18.0, \"Low_Severity_Incidents\": 27.0, \"Weighted_Risk_Score\": 141.0, \"Risk_Tier\": \"Medium\", \"Incidents_VMC\": 8.0, \"Incidents_IMC\": 93.0, \"Proportion_VMC\": 0.07692307692307693, \"Proportion_IMC\": 0.8942307692307693}]}}, {\"mode\": \"vega-lite\"});\n",
       "</script>"
      ],
      "text/plain": [
       "alt.Chart(...)"
      ]
     },
     "execution_count": 10,
     "metadata": {},
     "output_type": "execute_result"
    }
   ],
   "source": [
    "# Scatter plot 2: `Total_Incidents` (x-axis) vs. `Proportion_IMC` (y-axis), colored by `Risk_Tier`\n",
    "chart2 = alt.Chart(merged_df).mark_circle().encode(\n",
    "    x=alt.X('Total_Incidents', axis=alt.Axis(title='Total Incidents')),\n",
    "    y=alt.Y('Proportion_IMC', axis=alt.Axis(title='Proportion of Incidents in IMC')),\n",
    "    color='Risk_Tier',\n",
    "    tooltip=['Aircraft', 'Total_Incidents', 'Proportion_IMC', 'Risk_Tier']\n",
    ").properties(\n",
    "    title='Total Incidents vs. Proportion of Incidents in IMC (Aircraft with 100+ Incidents)'\n",
    ").interactive()\n",
    "chart2"
   ]
  },
  {
   "cell_type": "markdown",
   "metadata": {
    "tags": []
   },
   "source": [
    "#### Top 10 aircraft types with the most incidents"
   ]
  },
  {
   "cell_type": "code",
   "execution_count": 11,
   "metadata": {},
   "outputs": [
    {
     "data": {
      "image/png": "[encoded data removed]",
      "text/plain": [
       "<Figure size 1400x800 with 1 Axes>"
      ]
     },
     "metadata": {},
     "output_type": "display_data"
    }
   ],
   "source": [
    "# Top 10 aircraft types with the most incidents\n",
    "aircraft_count = filtered_df['Aircraft'].value_counts().head(10)\n",
    "\n",
    "# Plot the top 10 aircraft types\n",
    "plt.figure(figsize=(14, 8))\n",
    "aircraft_count.plot(kind='bar', color='blue')\n",
    "plt.title('Top 10 Aircraft Types with the Most Incidents')\n",
    "plt.xlabel('Aircraft Type')\n",
    "plt.ylabel('Count')\n",
    "plt.xticks(rotation=45)\n",
    "plt.show()\n"
   ]
  },
  {
   "cell_type": "markdown",
   "metadata": {},
   "source": [
    "###  Conclusion "
   ]
  },
  {
   "cell_type": "markdown",
   "metadata": {
    "tags": []
   },
   "source": [
    "The analysis reveals that the risk profile of aircraft models is influenced by various factors, including the severity of incidents and weather conditions. While most incidents occur under VMC, some models show a higher proportion of incidents under IMC, highlighting the need for further investigation and potential mitigation strategies. Additionally, the purpose of the flight significantly impacts the risk profile of each aircraft, with personal and instructional flights being the most common purposes associated with incidents for the top 10 lowest risk aircraft."
   ]
  },
  {
   "cell_type": "markdown",
   "metadata": {
    "tags": []
   },
   "source": [
    "###  Recommendations "
   ]
  },
  {
   "cell_type": "markdown",
   "metadata": {},
   "source": [
    "\n",
    "**Prioritize Low-Risk Aircraft**: Opt for models in the 'Low' risk tier, as they have demonstrated a lower overall risk profile.\n",
    "Thorough Evaluation of High-Risk Aircraft: If considering models in the 'Very High' risk tier, conduct a comprehensive risk assessment to understand and mitigate potential hazards.\n",
    "\n",
    "**Regular Risk Assessment**: Implement a continuous risk assessment process for the aircraft fleet, monitoring incident data and adjusting procedures as needed.\n",
    "\n",
    "**Investigate Weather-Related Incidents**: For models with a higher proportion of incidents under IMC, investigate the underlying causes and implement appropriate measures ."
   ]
  },
  {
   "cell_type": "code",
   "execution_count": null,
   "metadata": {},
   "outputs": [],
   "source": []
  },
  {
   "cell_type": "code",
   "execution_count": null,
   "metadata": {},
   "outputs": [],
   "source": []
  }
 ],
 "metadata": {
  "kernelspec": {
   "display_name": "Python 3 (ipykernel)",
   "language": "python",
   "name": "python3"
  },
  "language_info": {
   "codemirror_mode": {
    "name": "ipython",
    "version": 3
   },
   "file_extension": ".py",
   "mimetype": "text/x-python",
   "name": "python",
   "nbconvert_exporter": "python",
   "pygments_lexer": "ipython3",
   "version": "3.11.7"
  }
 },
 "nbformat": 4,
 "nbformat_minor": 4
}
