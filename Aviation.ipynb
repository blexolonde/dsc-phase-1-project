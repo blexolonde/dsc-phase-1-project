{
 "cells": [
  {
   "cell_type": "markdown",
   "id": "b97358e5-5c6f-46e4-8e9b-7b9048b0978e",
   "metadata": {
    "tags": []
   },
   "source": [
    "# Aviation Safety Analysis\n",
    "\n",
    "Introduction:\n",
    "\n",
    "This project analyzes Aviation accident data to determine the lowest-risk aircraft for a new aviation division. The goal is to provide actionable insights to help the company decide which aircraft to purchase, focusing on minimizing risk."
   ]
  },
  {
   "cell_type": "markdown",
   "id": "b4fc3be7",
   "metadata": {},
   "source": [
    "## Data Preparation\n",
    "\n",
    "Data Understanding Dataset: Aviation accident data from 1962 to 2023 from the National Transportation Safety Board (NTSB)\n",
    "\n",
    "Source: https//;kagle.com//\n",
    "\n"
   ]
  },
  {
   "cell_type": "markdown",
   "id": "5e0ef0a7",
   "metadata": {},
   "source": [
    "Data Loading and Processing"
   ]
  },
  {
   "cell_type": "code",
   "execution_count": 1,
   "id": "43101de2",
   "metadata": {},
   "outputs": [
    {
     "name": "stdout",
     "output_type": "stream",
     "text": [
      "Requirement already satisfied: tabulate in c:\\users\\user\\appdata\\local\\programs\\python\\python312\\lib\\site-packages (0.9.0)\n",
      "Note: you may need to restart the kernel to use updated packages.\n"
     ]
    }
   ],
   "source": [
    "\n",
    "pip install tabulate\n"
   ]
  },
  {
   "cell_type": "code",
   "execution_count": 2,
   "id": "413c8bed-4f13-443a-8599-2301d1b9634e",
   "metadata": {
    "tags": []
   },
   "outputs": [],
   "source": [
    "#Import Libraries and load data\n",
    "import pandas as pd\n",
    "import numpy as np\n",
    "import matplotlib.pyplot as plt\n",
    "%matplotlib inline\n",
    "import warnings\n",
    "import seaborn as sns\n",
    "warnings.filterwarnings('ignore')\n",
    "\n",
    "# Display options for better readability\n",
    "pd.set_option('display.max_rows', None)\n",
    "pd.set_option('display.max_columns', None)\n",
    "\n",
    "     \n",
    "\n",
    "# Read the CSV file into a DataFrame using latin1 encoding\n",
    "df = pd.read_csv('C:\\\\Users\\\\USER\\\\Desktop\\\\olonde\\\\data\\\\AviationData.csv', encoding='latin1')"
   ]
  },
  {
   "cell_type": "code",
   "execution_count": 3,
   "id": "3ff28545",
   "metadata": {},
   "outputs": [
    {
     "data": {
      "text/plain": [
       "Index(['Event.Id', 'Investigation.Type', 'Accident.Number', 'Event.Date',\n",
       "       'Location', 'Country', 'Latitude', 'Longitude', 'Airport.Code',\n",
       "       'Airport.Name', 'Injury.Severity', 'Aircraft.damage',\n",
       "       'Aircraft.Category', 'Registration.Number', 'Make', 'Model',\n",
       "       'Amateur.Built', 'Number.of.Engines', 'Engine.Type', 'FAR.Description',\n",
       "       'Schedule', 'Purpose.of.flight', 'Air.carrier', 'Total.Fatal.Injuries',\n",
       "       'Total.Serious.Injuries', 'Total.Minor.Injuries', 'Total.Uninjured',\n",
       "       'Weather.Condition', 'Broad.phase.of.flight', 'Report.Status',\n",
       "       'Publication.Date'],\n",
       "      dtype='object')"
      ]
     },
     "execution_count": 3,
     "metadata": {},
     "output_type": "execute_result"
    }
   ],
   "source": [
    "#Explore the data frames Columns \n",
    "df.columns"
   ]
  },
  {
   "cell_type": "code",
   "execution_count": 4,
   "id": "588890b3",
   "metadata": {},
   "outputs": [
    {
     "name": "stdout",
     "output_type": "stream",
     "text": [
      "<class 'pandas.core.frame.DataFrame'>\n",
      "RangeIndex: 88889 entries, 0 to 88888\n",
      "Data columns (total 31 columns):\n",
      " #   Column                  Non-Null Count  Dtype  \n",
      "---  ------                  --------------  -----  \n",
      " 0   Event.Id                88889 non-null  object \n",
      " 1   Investigation.Type      88889 non-null  object \n",
      " 2   Accident.Number         88889 non-null  object \n",
      " 3   Event.Date              88889 non-null  object \n",
      " 4   Location                88837 non-null  object \n",
      " 5   Country                 88663 non-null  object \n",
      " 6   Latitude                34382 non-null  object \n",
      " 7   Longitude               34373 non-null  object \n",
      " 8   Airport.Code            50132 non-null  object \n",
      " 9   Airport.Name            52704 non-null  object \n",
      " 10  Injury.Severity         87889 non-null  object \n",
      " 11  Aircraft.damage         85695 non-null  object \n",
      " 12  Aircraft.Category       32287 non-null  object \n",
      " 13  Registration.Number     87507 non-null  object \n",
      " 14  Make                    88826 non-null  object \n",
      " 15  Model                   88797 non-null  object \n",
      " 16  Amateur.Built           88787 non-null  object \n",
      " 17  Number.of.Engines       82805 non-null  float64\n",
      " 18  Engine.Type             81793 non-null  object \n",
      " 19  FAR.Description         32023 non-null  object \n",
      " 20  Schedule                12582 non-null  object \n",
      " 21  Purpose.of.flight       82697 non-null  object \n",
      " 22  Air.carrier             16648 non-null  object \n",
      " 23  Total.Fatal.Injuries    77488 non-null  float64\n",
      " 24  Total.Serious.Injuries  76379 non-null  float64\n",
      " 25  Total.Minor.Injuries    76956 non-null  float64\n",
      " 26  Total.Uninjured         82977 non-null  float64\n",
      " 27  Weather.Condition       84397 non-null  object \n",
      " 28  Broad.phase.of.flight   61724 non-null  object \n",
      " 29  Report.Status           82505 non-null  object \n",
      " 30  Publication.Date        75118 non-null  object \n",
      "dtypes: float64(5), object(26)\n",
      "memory usage: 21.0+ MB\n"
     ]
    }
   ],
   "source": [
    "df.info()"
   ]
  },
  {
   "cell_type": "code",
   "execution_count": null,
   "id": "0fdf7504",
   "metadata": {},
   "outputs": [],
   "source": []
  },
  {
   "cell_type": "markdown",
   "id": "de315135",
   "metadata": {},
   "source": [
    "## Data Understanding"
   ]
  },
  {
   "cell_type": "code",
   "execution_count": 5,
   "id": "ec66a448-90bc-493e-a563-342c69af5d47",
   "metadata": {
    "tags": []
   },
   "outputs": [],
   "source": [
    "df.columns = [col.replace('.', '_') for col in df.columns]"
   ]
  },
  {
   "cell_type": "code",
   "execution_count": 6,
   "id": "39631b58-f3f2-4597-9b97-8aa62f64d4ac",
   "metadata": {
    "tags": []
   },
   "outputs": [
    {
     "data": {
      "text/plain": [
       "Index(['Event_Id', 'Investigation_Type', 'Accident_Number', 'Event_Date',\n",
       "       'Location', 'Country', 'Latitude', 'Longitude', 'Airport_Code',\n",
       "       'Airport_Name', 'Injury_Severity', 'Aircraft_damage',\n",
       "       'Aircraft_Category', 'Registration_Number', 'Make', 'Model',\n",
       "       'Amateur_Built', 'Number_of_Engines', 'Engine_Type', 'FAR_Description',\n",
       "       'Schedule', 'Purpose_of_flight', 'Air_carrier', 'Total_Fatal_Injuries',\n",
       "       'Total_Serious_Injuries', 'Total_Minor_Injuries', 'Total_Uninjured',\n",
       "       'Weather_Condition', 'Broad_phase_of_flight', 'Report_Status',\n",
       "       'Publication_Date'],\n",
       "      dtype='object')"
      ]
     },
     "execution_count": 6,
     "metadata": {},
     "output_type": "execute_result"
    }
   ],
   "source": [
    "df.columns\n"
   ]
  },
  {
   "cell_type": "code",
   "execution_count": 7,
   "id": "88a1ddda",
   "metadata": {},
   "outputs": [
    {
     "data": {
      "text/html": [
       "<div>\n",
       "<style scoped>\n",
       "    .dataframe tbody tr th:only-of-type {\n",
       "        vertical-align: middle;\n",
       "    }\n",
       "\n",
       "    .dataframe tbody tr th {\n",
       "        vertical-align: top;\n",
       "    }\n",
       "\n",
       "    .dataframe thead th {\n",
       "        text-align: right;\n",
       "    }\n",
       "</style>\n",
       "<table border=\"1\" class=\"dataframe\">\n",
       "  <thead>\n",
       "    <tr style=\"text-align: right;\">\n",
       "      <th></th>\n",
       "      <th>Event_Id</th>\n",
       "      <th>Investigation_Type</th>\n",
       "      <th>Accident_Number</th>\n",
       "      <th>Event_Date</th>\n",
       "      <th>Location</th>\n",
       "      <th>Country</th>\n",
       "      <th>Latitude</th>\n",
       "      <th>Longitude</th>\n",
       "      <th>Airport_Code</th>\n",
       "      <th>Airport_Name</th>\n",
       "      <th>Injury_Severity</th>\n",
       "      <th>Aircraft_damage</th>\n",
       "      <th>Aircraft_Category</th>\n",
       "      <th>Registration_Number</th>\n",
       "      <th>Make</th>\n",
       "      <th>Model</th>\n",
       "      <th>Amateur_Built</th>\n",
       "      <th>Number_of_Engines</th>\n",
       "      <th>Engine_Type</th>\n",
       "      <th>FAR_Description</th>\n",
       "      <th>Schedule</th>\n",
       "      <th>Purpose_of_flight</th>\n",
       "      <th>Air_carrier</th>\n",
       "      <th>Total_Fatal_Injuries</th>\n",
       "      <th>Total_Serious_Injuries</th>\n",
       "      <th>Total_Minor_Injuries</th>\n",
       "      <th>Total_Uninjured</th>\n",
       "      <th>Weather_Condition</th>\n",
       "      <th>Broad_phase_of_flight</th>\n",
       "      <th>Report_Status</th>\n",
       "      <th>Publication_Date</th>\n",
       "    </tr>\n",
       "  </thead>\n",
       "  <tbody>\n",
       "    <tr>\n",
       "      <th>0</th>\n",
       "      <td>20001218X45444</td>\n",
       "      <td>Accident</td>\n",
       "      <td>SEA87LA080</td>\n",
       "      <td>1948-10-24</td>\n",
       "      <td>MOOSE CREEK, ID</td>\n",
       "      <td>United States</td>\n",
       "      <td>NaN</td>\n",
       "      <td>NaN</td>\n",
       "      <td>NaN</td>\n",
       "      <td>NaN</td>\n",
       "      <td>Fatal(2)</td>\n",
       "      <td>Destroyed</td>\n",
       "      <td>NaN</td>\n",
       "      <td>NC6404</td>\n",
       "      <td>Stinson</td>\n",
       "      <td>108-3</td>\n",
       "      <td>No</td>\n",
       "      <td>1.0</td>\n",
       "      <td>Reciprocating</td>\n",
       "      <td>NaN</td>\n",
       "      <td>NaN</td>\n",
       "      <td>Personal</td>\n",
       "      <td>NaN</td>\n",
       "      <td>2.0</td>\n",
       "      <td>0.0</td>\n",
       "      <td>0.0</td>\n",
       "      <td>0.0</td>\n",
       "      <td>UNK</td>\n",
       "      <td>Cruise</td>\n",
       "      <td>Probable Cause</td>\n",
       "      <td>NaN</td>\n",
       "    </tr>\n",
       "    <tr>\n",
       "      <th>1</th>\n",
       "      <td>20001218X45447</td>\n",
       "      <td>Accident</td>\n",
       "      <td>LAX94LA336</td>\n",
       "      <td>1962-07-19</td>\n",
       "      <td>BRIDGEPORT, CA</td>\n",
       "      <td>United States</td>\n",
       "      <td>NaN</td>\n",
       "      <td>NaN</td>\n",
       "      <td>NaN</td>\n",
       "      <td>NaN</td>\n",
       "      <td>Fatal(4)</td>\n",
       "      <td>Destroyed</td>\n",
       "      <td>NaN</td>\n",
       "      <td>N5069P</td>\n",
       "      <td>Piper</td>\n",
       "      <td>PA24-180</td>\n",
       "      <td>No</td>\n",
       "      <td>1.0</td>\n",
       "      <td>Reciprocating</td>\n",
       "      <td>NaN</td>\n",
       "      <td>NaN</td>\n",
       "      <td>Personal</td>\n",
       "      <td>NaN</td>\n",
       "      <td>4.0</td>\n",
       "      <td>0.0</td>\n",
       "      <td>0.0</td>\n",
       "      <td>0.0</td>\n",
       "      <td>UNK</td>\n",
       "      <td>Unknown</td>\n",
       "      <td>Probable Cause</td>\n",
       "      <td>19-09-1996</td>\n",
       "    </tr>\n",
       "    <tr>\n",
       "      <th>2</th>\n",
       "      <td>20061025X01555</td>\n",
       "      <td>Accident</td>\n",
       "      <td>NYC07LA005</td>\n",
       "      <td>1974-08-30</td>\n",
       "      <td>Saltville, VA</td>\n",
       "      <td>United States</td>\n",
       "      <td>36.922223</td>\n",
       "      <td>-81.878056</td>\n",
       "      <td>NaN</td>\n",
       "      <td>NaN</td>\n",
       "      <td>Fatal(3)</td>\n",
       "      <td>Destroyed</td>\n",
       "      <td>NaN</td>\n",
       "      <td>N5142R</td>\n",
       "      <td>Cessna</td>\n",
       "      <td>172M</td>\n",
       "      <td>No</td>\n",
       "      <td>1.0</td>\n",
       "      <td>Reciprocating</td>\n",
       "      <td>NaN</td>\n",
       "      <td>NaN</td>\n",
       "      <td>Personal</td>\n",
       "      <td>NaN</td>\n",
       "      <td>3.0</td>\n",
       "      <td>NaN</td>\n",
       "      <td>NaN</td>\n",
       "      <td>NaN</td>\n",
       "      <td>IMC</td>\n",
       "      <td>Cruise</td>\n",
       "      <td>Probable Cause</td>\n",
       "      <td>26-02-2007</td>\n",
       "    </tr>\n",
       "    <tr>\n",
       "      <th>3</th>\n",
       "      <td>20001218X45448</td>\n",
       "      <td>Accident</td>\n",
       "      <td>LAX96LA321</td>\n",
       "      <td>1977-06-19</td>\n",
       "      <td>EUREKA, CA</td>\n",
       "      <td>United States</td>\n",
       "      <td>NaN</td>\n",
       "      <td>NaN</td>\n",
       "      <td>NaN</td>\n",
       "      <td>NaN</td>\n",
       "      <td>Fatal(2)</td>\n",
       "      <td>Destroyed</td>\n",
       "      <td>NaN</td>\n",
       "      <td>N1168J</td>\n",
       "      <td>Rockwell</td>\n",
       "      <td>112</td>\n",
       "      <td>No</td>\n",
       "      <td>1.0</td>\n",
       "      <td>Reciprocating</td>\n",
       "      <td>NaN</td>\n",
       "      <td>NaN</td>\n",
       "      <td>Personal</td>\n",
       "      <td>NaN</td>\n",
       "      <td>2.0</td>\n",
       "      <td>0.0</td>\n",
       "      <td>0.0</td>\n",
       "      <td>0.0</td>\n",
       "      <td>IMC</td>\n",
       "      <td>Cruise</td>\n",
       "      <td>Probable Cause</td>\n",
       "      <td>12-09-2000</td>\n",
       "    </tr>\n",
       "    <tr>\n",
       "      <th>4</th>\n",
       "      <td>20041105X01764</td>\n",
       "      <td>Accident</td>\n",
       "      <td>CHI79FA064</td>\n",
       "      <td>1979-08-02</td>\n",
       "      <td>Canton, OH</td>\n",
       "      <td>United States</td>\n",
       "      <td>NaN</td>\n",
       "      <td>NaN</td>\n",
       "      <td>NaN</td>\n",
       "      <td>NaN</td>\n",
       "      <td>Fatal(1)</td>\n",
       "      <td>Destroyed</td>\n",
       "      <td>NaN</td>\n",
       "      <td>N15NY</td>\n",
       "      <td>Cessna</td>\n",
       "      <td>501</td>\n",
       "      <td>No</td>\n",
       "      <td>NaN</td>\n",
       "      <td>NaN</td>\n",
       "      <td>NaN</td>\n",
       "      <td>NaN</td>\n",
       "      <td>Personal</td>\n",
       "      <td>NaN</td>\n",
       "      <td>1.0</td>\n",
       "      <td>2.0</td>\n",
       "      <td>NaN</td>\n",
       "      <td>0.0</td>\n",
       "      <td>VMC</td>\n",
       "      <td>Approach</td>\n",
       "      <td>Probable Cause</td>\n",
       "      <td>16-04-1980</td>\n",
       "    </tr>\n",
       "    <tr>\n",
       "      <th>5</th>\n",
       "      <td>20170710X52551</td>\n",
       "      <td>Accident</td>\n",
       "      <td>NYC79AA106</td>\n",
       "      <td>1979-09-17</td>\n",
       "      <td>BOSTON, MA</td>\n",
       "      <td>United States</td>\n",
       "      <td>42.445277</td>\n",
       "      <td>-70.758333</td>\n",
       "      <td>NaN</td>\n",
       "      <td>NaN</td>\n",
       "      <td>Non-Fatal</td>\n",
       "      <td>Substantial</td>\n",
       "      <td>Airplane</td>\n",
       "      <td>CF-TLU</td>\n",
       "      <td>Mcdonnell Douglas</td>\n",
       "      <td>DC9</td>\n",
       "      <td>No</td>\n",
       "      <td>2.0</td>\n",
       "      <td>Turbo Fan</td>\n",
       "      <td>Part 129: Foreign</td>\n",
       "      <td>SCHD</td>\n",
       "      <td>NaN</td>\n",
       "      <td>Air Canada</td>\n",
       "      <td>NaN</td>\n",
       "      <td>NaN</td>\n",
       "      <td>1.0</td>\n",
       "      <td>44.0</td>\n",
       "      <td>VMC</td>\n",
       "      <td>Climb</td>\n",
       "      <td>Probable Cause</td>\n",
       "      <td>19-09-2017</td>\n",
       "    </tr>\n",
       "    <tr>\n",
       "      <th>6</th>\n",
       "      <td>20001218X45446</td>\n",
       "      <td>Accident</td>\n",
       "      <td>CHI81LA106</td>\n",
       "      <td>1981-08-01</td>\n",
       "      <td>COTTON, MN</td>\n",
       "      <td>United States</td>\n",
       "      <td>NaN</td>\n",
       "      <td>NaN</td>\n",
       "      <td>NaN</td>\n",
       "      <td>NaN</td>\n",
       "      <td>Fatal(4)</td>\n",
       "      <td>Destroyed</td>\n",
       "      <td>NaN</td>\n",
       "      <td>N4988E</td>\n",
       "      <td>Cessna</td>\n",
       "      <td>180</td>\n",
       "      <td>No</td>\n",
       "      <td>1.0</td>\n",
       "      <td>Reciprocating</td>\n",
       "      <td>NaN</td>\n",
       "      <td>NaN</td>\n",
       "      <td>Personal</td>\n",
       "      <td>NaN</td>\n",
       "      <td>4.0</td>\n",
       "      <td>0.0</td>\n",
       "      <td>0.0</td>\n",
       "      <td>0.0</td>\n",
       "      <td>IMC</td>\n",
       "      <td>Unknown</td>\n",
       "      <td>Probable Cause</td>\n",
       "      <td>06-11-2001</td>\n",
       "    </tr>\n",
       "    <tr>\n",
       "      <th>7</th>\n",
       "      <td>20020909X01562</td>\n",
       "      <td>Accident</td>\n",
       "      <td>SEA82DA022</td>\n",
       "      <td>1982-01-01</td>\n",
       "      <td>PULLMAN, WA</td>\n",
       "      <td>United States</td>\n",
       "      <td>NaN</td>\n",
       "      <td>NaN</td>\n",
       "      <td>NaN</td>\n",
       "      <td>BLACKBURN AG STRIP</td>\n",
       "      <td>Non-Fatal</td>\n",
       "      <td>Substantial</td>\n",
       "      <td>Airplane</td>\n",
       "      <td>N2482N</td>\n",
       "      <td>Cessna</td>\n",
       "      <td>140</td>\n",
       "      <td>No</td>\n",
       "      <td>1.0</td>\n",
       "      <td>Reciprocating</td>\n",
       "      <td>Part 91: General Aviation</td>\n",
       "      <td>NaN</td>\n",
       "      <td>Personal</td>\n",
       "      <td>NaN</td>\n",
       "      <td>0.0</td>\n",
       "      <td>0.0</td>\n",
       "      <td>0.0</td>\n",
       "      <td>2.0</td>\n",
       "      <td>VMC</td>\n",
       "      <td>Takeoff</td>\n",
       "      <td>Probable Cause</td>\n",
       "      <td>01-01-1982</td>\n",
       "    </tr>\n",
       "    <tr>\n",
       "      <th>8</th>\n",
       "      <td>20020909X01561</td>\n",
       "      <td>Accident</td>\n",
       "      <td>NYC82DA015</td>\n",
       "      <td>1982-01-01</td>\n",
       "      <td>EAST HANOVER, NJ</td>\n",
       "      <td>United States</td>\n",
       "      <td>NaN</td>\n",
       "      <td>NaN</td>\n",
       "      <td>N58</td>\n",
       "      <td>HANOVER</td>\n",
       "      <td>Non-Fatal</td>\n",
       "      <td>Substantial</td>\n",
       "      <td>Airplane</td>\n",
       "      <td>N7967Q</td>\n",
       "      <td>Cessna</td>\n",
       "      <td>401B</td>\n",
       "      <td>No</td>\n",
       "      <td>2.0</td>\n",
       "      <td>Reciprocating</td>\n",
       "      <td>Part 91: General Aviation</td>\n",
       "      <td>NaN</td>\n",
       "      <td>Business</td>\n",
       "      <td>NaN</td>\n",
       "      <td>0.0</td>\n",
       "      <td>0.0</td>\n",
       "      <td>0.0</td>\n",
       "      <td>2.0</td>\n",
       "      <td>IMC</td>\n",
       "      <td>Landing</td>\n",
       "      <td>Probable Cause</td>\n",
       "      <td>01-01-1982</td>\n",
       "    </tr>\n",
       "    <tr>\n",
       "      <th>9</th>\n",
       "      <td>20020909X01560</td>\n",
       "      <td>Accident</td>\n",
       "      <td>MIA82DA029</td>\n",
       "      <td>1982-01-01</td>\n",
       "      <td>JACKSONVILLE, FL</td>\n",
       "      <td>United States</td>\n",
       "      <td>NaN</td>\n",
       "      <td>NaN</td>\n",
       "      <td>JAX</td>\n",
       "      <td>JACKSONVILLE INTL</td>\n",
       "      <td>Non-Fatal</td>\n",
       "      <td>Substantial</td>\n",
       "      <td>NaN</td>\n",
       "      <td>N3906K</td>\n",
       "      <td>North American</td>\n",
       "      <td>NAVION L-17B</td>\n",
       "      <td>No</td>\n",
       "      <td>1.0</td>\n",
       "      <td>Reciprocating</td>\n",
       "      <td>NaN</td>\n",
       "      <td>NaN</td>\n",
       "      <td>Personal</td>\n",
       "      <td>NaN</td>\n",
       "      <td>0.0</td>\n",
       "      <td>0.0</td>\n",
       "      <td>3.0</td>\n",
       "      <td>0.0</td>\n",
       "      <td>IMC</td>\n",
       "      <td>Cruise</td>\n",
       "      <td>Probable Cause</td>\n",
       "      <td>01-01-1982</td>\n",
       "    </tr>\n",
       "  </tbody>\n",
       "</table>\n",
       "</div>"
      ],
      "text/plain": [
       "         Event_Id Investigation_Type Accident_Number  Event_Date  \\\n",
       "0  20001218X45444           Accident      SEA87LA080  1948-10-24   \n",
       "1  20001218X45447           Accident      LAX94LA336  1962-07-19   \n",
       "2  20061025X01555           Accident      NYC07LA005  1974-08-30   \n",
       "3  20001218X45448           Accident      LAX96LA321  1977-06-19   \n",
       "4  20041105X01764           Accident      CHI79FA064  1979-08-02   \n",
       "5  20170710X52551           Accident      NYC79AA106  1979-09-17   \n",
       "6  20001218X45446           Accident      CHI81LA106  1981-08-01   \n",
       "7  20020909X01562           Accident      SEA82DA022  1982-01-01   \n",
       "8  20020909X01561           Accident      NYC82DA015  1982-01-01   \n",
       "9  20020909X01560           Accident      MIA82DA029  1982-01-01   \n",
       "\n",
       "           Location        Country   Latitude  Longitude Airport_Code  \\\n",
       "0   MOOSE CREEK, ID  United States        NaN        NaN          NaN   \n",
       "1    BRIDGEPORT, CA  United States        NaN        NaN          NaN   \n",
       "2     Saltville, VA  United States  36.922223 -81.878056          NaN   \n",
       "3        EUREKA, CA  United States        NaN        NaN          NaN   \n",
       "4        Canton, OH  United States        NaN        NaN          NaN   \n",
       "5        BOSTON, MA  United States  42.445277 -70.758333          NaN   \n",
       "6        COTTON, MN  United States        NaN        NaN          NaN   \n",
       "7       PULLMAN, WA  United States        NaN        NaN          NaN   \n",
       "8  EAST HANOVER, NJ  United States        NaN        NaN          N58   \n",
       "9  JACKSONVILLE, FL  United States        NaN        NaN          JAX   \n",
       "\n",
       "         Airport_Name Injury_Severity Aircraft_damage Aircraft_Category  \\\n",
       "0                 NaN        Fatal(2)       Destroyed               NaN   \n",
       "1                 NaN        Fatal(4)       Destroyed               NaN   \n",
       "2                 NaN        Fatal(3)       Destroyed               NaN   \n",
       "3                 NaN        Fatal(2)       Destroyed               NaN   \n",
       "4                 NaN        Fatal(1)       Destroyed               NaN   \n",
       "5                 NaN       Non-Fatal     Substantial          Airplane   \n",
       "6                 NaN        Fatal(4)       Destroyed               NaN   \n",
       "7  BLACKBURN AG STRIP       Non-Fatal     Substantial          Airplane   \n",
       "8             HANOVER       Non-Fatal     Substantial          Airplane   \n",
       "9   JACKSONVILLE INTL       Non-Fatal     Substantial               NaN   \n",
       "\n",
       "  Registration_Number               Make         Model Amateur_Built  \\\n",
       "0              NC6404            Stinson         108-3            No   \n",
       "1              N5069P              Piper      PA24-180            No   \n",
       "2              N5142R             Cessna          172M            No   \n",
       "3              N1168J           Rockwell           112            No   \n",
       "4               N15NY             Cessna           501            No   \n",
       "5              CF-TLU  Mcdonnell Douglas           DC9            No   \n",
       "6              N4988E             Cessna           180            No   \n",
       "7              N2482N             Cessna           140            No   \n",
       "8              N7967Q             Cessna          401B            No   \n",
       "9              N3906K     North American  NAVION L-17B            No   \n",
       "\n",
       "   Number_of_Engines    Engine_Type            FAR_Description Schedule  \\\n",
       "0                1.0  Reciprocating                        NaN      NaN   \n",
       "1                1.0  Reciprocating                        NaN      NaN   \n",
       "2                1.0  Reciprocating                        NaN      NaN   \n",
       "3                1.0  Reciprocating                        NaN      NaN   \n",
       "4                NaN            NaN                        NaN      NaN   \n",
       "5                2.0      Turbo Fan          Part 129: Foreign     SCHD   \n",
       "6                1.0  Reciprocating                        NaN      NaN   \n",
       "7                1.0  Reciprocating  Part 91: General Aviation      NaN   \n",
       "8                2.0  Reciprocating  Part 91: General Aviation      NaN   \n",
       "9                1.0  Reciprocating                        NaN      NaN   \n",
       "\n",
       "  Purpose_of_flight Air_carrier  Total_Fatal_Injuries  Total_Serious_Injuries  \\\n",
       "0          Personal         NaN                   2.0                     0.0   \n",
       "1          Personal         NaN                   4.0                     0.0   \n",
       "2          Personal         NaN                   3.0                     NaN   \n",
       "3          Personal         NaN                   2.0                     0.0   \n",
       "4          Personal         NaN                   1.0                     2.0   \n",
       "5               NaN  Air Canada                   NaN                     NaN   \n",
       "6          Personal         NaN                   4.0                     0.0   \n",
       "7          Personal         NaN                   0.0                     0.0   \n",
       "8          Business         NaN                   0.0                     0.0   \n",
       "9          Personal         NaN                   0.0                     0.0   \n",
       "\n",
       "   Total_Minor_Injuries  Total_Uninjured Weather_Condition  \\\n",
       "0                   0.0              0.0               UNK   \n",
       "1                   0.0              0.0               UNK   \n",
       "2                   NaN              NaN               IMC   \n",
       "3                   0.0              0.0               IMC   \n",
       "4                   NaN              0.0               VMC   \n",
       "5                   1.0             44.0               VMC   \n",
       "6                   0.0              0.0               IMC   \n",
       "7                   0.0              2.0               VMC   \n",
       "8                   0.0              2.0               IMC   \n",
       "9                   3.0              0.0               IMC   \n",
       "\n",
       "  Broad_phase_of_flight   Report_Status Publication_Date  \n",
       "0                Cruise  Probable Cause              NaN  \n",
       "1               Unknown  Probable Cause       19-09-1996  \n",
       "2                Cruise  Probable Cause       26-02-2007  \n",
       "3                Cruise  Probable Cause       12-09-2000  \n",
       "4              Approach  Probable Cause       16-04-1980  \n",
       "5                 Climb  Probable Cause       19-09-2017  \n",
       "6               Unknown  Probable Cause       06-11-2001  \n",
       "7               Takeoff  Probable Cause       01-01-1982  \n",
       "8               Landing  Probable Cause       01-01-1982  \n",
       "9                Cruise  Probable Cause       01-01-1982  "
      ]
     },
     "execution_count": 7,
     "metadata": {},
     "output_type": "execute_result"
    }
   ],
   "source": [
    "df.head(10)"
   ]
  },
  {
   "cell_type": "markdown",
   "id": "3a83795e",
   "metadata": {},
   "source": [
    "**Drop Irrelevant Columns**"
   ]
  },
  {
   "cell_type": "code",
   "execution_count": 8,
   "id": "2ce2df6f-961a-4107-96f7-144a2d632422",
   "metadata": {},
   "outputs": [],
   "source": [
    "# Drop columns that are not used in the analysis\n",
    "columns_to_keep = ['Event_Date', 'Investigation_Type', 'Make', 'Model',  'Total_Fatal_Injuries', 'Total_Serious_Injuries', 'Total_Minor_Injuries','Total_Uninjured', 'Weather_Condition', 'Broad_phase_of_flight']\n",
    "df = df[columns_to_keep]"
   ]
  },
  {
   "cell_type": "code",
   "execution_count": 9,
   "id": "0499523c",
   "metadata": {},
   "outputs": [
    {
     "data": {
      "text/html": [
       "<div>\n",
       "<style scoped>\n",
       "    .dataframe tbody tr th:only-of-type {\n",
       "        vertical-align: middle;\n",
       "    }\n",
       "\n",
       "    .dataframe tbody tr th {\n",
       "        vertical-align: top;\n",
       "    }\n",
       "\n",
       "    .dataframe thead th {\n",
       "        text-align: right;\n",
       "    }\n",
       "</style>\n",
       "<table border=\"1\" class=\"dataframe\">\n",
       "  <thead>\n",
       "    <tr style=\"text-align: right;\">\n",
       "      <th></th>\n",
       "      <th>Event_Date</th>\n",
       "      <th>Investigation_Type</th>\n",
       "      <th>Make</th>\n",
       "      <th>Model</th>\n",
       "      <th>Total_Fatal_Injuries</th>\n",
       "      <th>Total_Serious_Injuries</th>\n",
       "      <th>Total_Minor_Injuries</th>\n",
       "      <th>Total_Uninjured</th>\n",
       "      <th>Weather_Condition</th>\n",
       "      <th>Broad_phase_of_flight</th>\n",
       "    </tr>\n",
       "  </thead>\n",
       "  <tbody>\n",
       "    <tr>\n",
       "      <th>88884</th>\n",
       "      <td>2022-12-26</td>\n",
       "      <td>Accident</td>\n",
       "      <td>PIPER</td>\n",
       "      <td>PA-28-151</td>\n",
       "      <td>0.0</td>\n",
       "      <td>1.0</td>\n",
       "      <td>0.0</td>\n",
       "      <td>0.0</td>\n",
       "      <td>NaN</td>\n",
       "      <td>NaN</td>\n",
       "    </tr>\n",
       "    <tr>\n",
       "      <th>88885</th>\n",
       "      <td>2022-12-26</td>\n",
       "      <td>Accident</td>\n",
       "      <td>BELLANCA</td>\n",
       "      <td>7ECA</td>\n",
       "      <td>0.0</td>\n",
       "      <td>0.0</td>\n",
       "      <td>0.0</td>\n",
       "      <td>0.0</td>\n",
       "      <td>NaN</td>\n",
       "      <td>NaN</td>\n",
       "    </tr>\n",
       "    <tr>\n",
       "      <th>88886</th>\n",
       "      <td>2022-12-26</td>\n",
       "      <td>Accident</td>\n",
       "      <td>AMERICAN CHAMPION AIRCRAFT</td>\n",
       "      <td>8GCBC</td>\n",
       "      <td>0.0</td>\n",
       "      <td>0.0</td>\n",
       "      <td>0.0</td>\n",
       "      <td>1.0</td>\n",
       "      <td>VMC</td>\n",
       "      <td>NaN</td>\n",
       "    </tr>\n",
       "    <tr>\n",
       "      <th>88887</th>\n",
       "      <td>2022-12-26</td>\n",
       "      <td>Accident</td>\n",
       "      <td>CESSNA</td>\n",
       "      <td>210N</td>\n",
       "      <td>0.0</td>\n",
       "      <td>0.0</td>\n",
       "      <td>0.0</td>\n",
       "      <td>0.0</td>\n",
       "      <td>NaN</td>\n",
       "      <td>NaN</td>\n",
       "    </tr>\n",
       "    <tr>\n",
       "      <th>88888</th>\n",
       "      <td>2022-12-29</td>\n",
       "      <td>Accident</td>\n",
       "      <td>PIPER</td>\n",
       "      <td>PA-24-260</td>\n",
       "      <td>0.0</td>\n",
       "      <td>1.0</td>\n",
       "      <td>0.0</td>\n",
       "      <td>1.0</td>\n",
       "      <td>NaN</td>\n",
       "      <td>NaN</td>\n",
       "    </tr>\n",
       "  </tbody>\n",
       "</table>\n",
       "</div>"
      ],
      "text/plain": [
       "       Event_Date Investigation_Type                        Make      Model  \\\n",
       "88884  2022-12-26           Accident                       PIPER  PA-28-151   \n",
       "88885  2022-12-26           Accident                    BELLANCA       7ECA   \n",
       "88886  2022-12-26           Accident  AMERICAN CHAMPION AIRCRAFT      8GCBC   \n",
       "88887  2022-12-26           Accident                      CESSNA       210N   \n",
       "88888  2022-12-29           Accident                       PIPER  PA-24-260   \n",
       "\n",
       "       Total_Fatal_Injuries  Total_Serious_Injuries  Total_Minor_Injuries  \\\n",
       "88884                   0.0                     1.0                   0.0   \n",
       "88885                   0.0                     0.0                   0.0   \n",
       "88886                   0.0                     0.0                   0.0   \n",
       "88887                   0.0                     0.0                   0.0   \n",
       "88888                   0.0                     1.0                   0.0   \n",
       "\n",
       "       Total_Uninjured Weather_Condition Broad_phase_of_flight  \n",
       "88884              0.0               NaN                   NaN  \n",
       "88885              0.0               NaN                   NaN  \n",
       "88886              1.0               VMC                   NaN  \n",
       "88887              0.0               NaN                   NaN  \n",
       "88888              1.0               NaN                   NaN  "
      ]
     },
     "execution_count": 9,
     "metadata": {},
     "output_type": "execute_result"
    }
   ],
   "source": [
    "df.tail()"
   ]
  },
  {
   "cell_type": "markdown",
   "id": "9947479b",
   "metadata": {},
   "source": [
    "Merge 'Make' and 'Model' for more precesiion"
   ]
  },
  {
   "cell_type": "code",
   "execution_count": 10,
   "id": "494de60d",
   "metadata": {},
   "outputs": [],
   "source": [
    "# Merge 'Make' and 'Model' into a single 'Aircraft' column\n",
    "df['Aircraft'] = df['Make'] + ' ' + df['Model']"
   ]
  },
  {
   "cell_type": "code",
   "execution_count": 11,
   "id": "2e69b82d",
   "metadata": {},
   "outputs": [
    {
     "name": "stdout",
     "output_type": "stream",
     "text": [
      "<class 'pandas.core.frame.DataFrame'>\n",
      "RangeIndex: 88889 entries, 0 to 88888\n",
      "Data columns (total 11 columns):\n",
      " #   Column                  Non-Null Count  Dtype  \n",
      "---  ------                  --------------  -----  \n",
      " 0   Event_Date              88889 non-null  object \n",
      " 1   Investigation_Type      88889 non-null  object \n",
      " 2   Make                    88826 non-null  object \n",
      " 3   Model                   88797 non-null  object \n",
      " 4   Total_Fatal_Injuries    77488 non-null  float64\n",
      " 5   Total_Serious_Injuries  76379 non-null  float64\n",
      " 6   Total_Minor_Injuries    76956 non-null  float64\n",
      " 7   Total_Uninjured         82977 non-null  float64\n",
      " 8   Weather_Condition       84397 non-null  object \n",
      " 9   Broad_phase_of_flight   61724 non-null  object \n",
      " 10  Aircraft                88777 non-null  object \n",
      "dtypes: float64(4), object(7)\n",
      "memory usage: 7.5+ MB\n"
     ]
    }
   ],
   "source": [
    "df.info()"
   ]
  },
  {
   "cell_type": "markdown",
   "id": "2dcba652",
   "metadata": {},
   "source": [
    "Calculate the Total Number of People Involved in Each Accident:"
   ]
  },
  {
   "cell_type": "code",
   "execution_count": 12,
   "id": "42ae5702-97b8-4eba-90f6-dd4f49f4e9d7",
   "metadata": {},
   "outputs": [],
   "source": [
    "\n",
    "# Filter to only include accidents\n",
    "df_accidents = df[df['Investigation_Type'] == 'Accident'].copy()\n",
    "\n",
    "# Convert `Event.Date` to datetime\n",
    "df_accidents['Event_Date'] = pd.to_datetime(df_accidents['Event_Date'])\n",
    "\n",
    "# Filter to accidents after 1980-01-01\n",
    "df_accidents_filtered = df_accidents[df_accidents['Event_Date'] > '1990-01-01'].copy()\n",
    "\n",
    "\n",
    "# Calculate the total number of people involved in each accident\n",
    "for column in ['Total_Fatal_Injuries', 'Total_Serious_Injuries', 'Total_Minor_Injuries', 'Total_Uninjured']:\n",
    "    df_accidents_filtered[column] = pd.to_numeric(df_accidents_filtered[column], errors='coerce').fillna(0)\n",
    "\n",
    "df_accidents_filtered['Total_Involved'] = df_accidents_filtered['Total_Fatal_Injuries'] + df_accidents_filtered['Total_Serious_Injuries'] + df_accidents_filtered['Total_Minor_Injuries'] + df_accidents_filtered['Total_Uninjured']\n",
    "\n",
    "\n"
   ]
  },
  {
   "cell_type": "code",
   "execution_count": 13,
   "id": "92ec9090",
   "metadata": {},
   "outputs": [
    {
     "name": "stdout",
     "output_type": "stream",
     "text": [
      "<class 'pandas.core.frame.DataFrame'>\n",
      "RangeIndex: 88889 entries, 0 to 88888\n",
      "Data columns (total 11 columns):\n",
      " #   Column                  Non-Null Count  Dtype  \n",
      "---  ------                  --------------  -----  \n",
      " 0   Event_Date              88889 non-null  object \n",
      " 1   Investigation_Type      88889 non-null  object \n",
      " 2   Make                    88826 non-null  object \n",
      " 3   Model                   88797 non-null  object \n",
      " 4   Total_Fatal_Injuries    77488 non-null  float64\n",
      " 5   Total_Serious_Injuries  76379 non-null  float64\n",
      " 6   Total_Minor_Injuries    76956 non-null  float64\n",
      " 7   Total_Uninjured         82977 non-null  float64\n",
      " 8   Weather_Condition       84397 non-null  object \n",
      " 9   Broad_phase_of_flight   61724 non-null  object \n",
      " 10  Aircraft                88777 non-null  object \n",
      "dtypes: float64(4), object(7)\n",
      "memory usage: 7.5+ MB\n"
     ]
    }
   ],
   "source": [
    "df.info()"
   ]
  },
  {
   "cell_type": "markdown",
   "id": "6d087044-f543-4371-9db7-6a8e62826f09",
   "metadata": {},
   "source": [
    "## Data Analysis"
   ]
  },
  {
   "cell_type": "markdown",
   "id": "68b1c673",
   "metadata": {},
   "source": [
    "**Group Data by Aircraft Model**\n",
    "\n",
    "Group the filtered DataFrame by the 'Aircraft' column and calculate the total number of people involved and the total number of accidents for each model. Then, calculate the average number of people involved per accident for each Aircraft."
   ]
  },
  {
   "cell_type": "code",
   "execution_count": 14,
   "id": "9cea5f55",
   "metadata": {},
   "outputs": [],
   "source": [
    "# Group by model and calculate total people involved and total accidents\n",
    "df_aircraft_grouped = df_accidents_filtered.groupby('Aircraft').agg(\n",
    "    Total_Involved=('Total_Involved', 'sum'),\n",
    "    Total_Accidents=('Total_Involved', 'count')\n",
    ").reset_index()"
   ]
  },
  {
   "cell_type": "markdown",
   "id": "231f0249",
   "metadata": {},
   "source": [
    "Calculate First Accident Date and Years in Service for Each Model"
   ]
  },
  {
   "cell_type": "code",
   "execution_count": 15,
   "id": "9b465518-8edf-489a-9b00-9fef9e3bcf86",
   "metadata": {
    "tags": []
   },
   "outputs": [],
   "source": [
    "\n",
    "# Calculate people involved per accident and convert soln to integer\n",
    "df_aircraft_grouped['People_Involved_per_Accident'] = (df_aircraft_grouped['Total_Involved'] / df_aircraft_grouped['Total_Accidents']).round().astype(int)\n",
    "\n",
    "\n",
    "# Calculate first accident date for each model\n",
    "df_first_accident = df_accidents_filtered.groupby('Aircraft')['Event_Date'].min().reset_index()\n",
    "df_first_accident.rename(columns={'Event_Date': 'First_Accident_Date'}, inplace=True)\n",
    "\n",
    "# Calculate years in service\n",
    "max_date = df_accidents_filtered['Event_Date'].max()\n",
    "df_first_accident['Years_In_Service'] = (max_date - df_first_accident['First_Accident_Date']).dt.days / 365\n",
    "\n"
   ]
  },
  {
   "cell_type": "markdown",
   "id": "3762c343",
   "metadata": {},
   "source": [
    "Merge Grouped Data with First Accident Date"
   ]
  },
  {
   "cell_type": "code",
   "execution_count": 16,
   "id": "4cf0577d",
   "metadata": {},
   "outputs": [],
   "source": [
    "# Merge with df_model_grouped\n",
    "df_aircraft_grouped = df_aircraft_grouped.merge(df_first_accident, on='Aircraft', how='left')\n",
    "\n",
    "# Filter out models with fewer than 50 accidents\n",
    "df_aircraft_grouped_filtered = df_aircraft_grouped[df_aircraft_grouped['Total_Accidents'] >= 50].copy()\n",
    "\n",
    "# Sort by years in service\n",
    "df_safest = df_aircraft_grouped_filtered.sort_values('Years_In_Service', ascending=False)\n",
    "df_least_safe = df_aircraft_grouped_filtered.sort_values('Years_In_Service')"
   ]
  },
  {
   "cell_type": "code",
   "execution_count": 17,
   "id": "46ec68e4",
   "metadata": {},
   "outputs": [
    {
     "name": "stdout",
     "output_type": "stream",
     "text": [
      "<class 'pandas.core.frame.DataFrame'>\n",
      "Index: 185 entries, 4633 to 11592\n",
      "Data columns (total 6 columns):\n",
      " #   Column                        Non-Null Count  Dtype         \n",
      "---  ------                        --------------  -----         \n",
      " 0   Aircraft                      185 non-null    object        \n",
      " 1   Total_Involved                185 non-null    float64       \n",
      " 2   Total_Accidents               185 non-null    int64         \n",
      " 3   People_Involved_per_Accident  185 non-null    int64         \n",
      " 4   First_Accident_Date           185 non-null    datetime64[ns]\n",
      " 5   Years_In_Service              185 non-null    float64       \n",
      "dtypes: datetime64[ns](1), float64(2), int64(2), object(1)\n",
      "memory usage: 10.1+ KB\n"
     ]
    }
   ],
   "source": [
    "df_safest.info()"
   ]
  },
  {
   "cell_type": "markdown",
   "id": "74c340f2",
   "metadata": {},
   "source": [
    "Sort and Display the Safest Aircraft"
   ]
  },
  {
   "cell_type": "code",
   "execution_count": 18,
   "id": "3c02a49a",
   "metadata": {},
   "outputs": [
    {
     "name": "stdout",
     "output_type": "stream",
     "text": [
      "Safest Models (Most Years in Service):\n",
      "| Aircraft         | Years_In_Service   | People_Involved_per_Accident   |\n",
      "|:-----------------|:-------------------|:-------------------------------|\n",
      "| Cessna 150       | 33.011             | 1                              |\n",
      "| Cessna 172M      | 33.0082            | 2                              |\n",
      "| Piper PA-28R-200 | 33.0082            | 2                              |\n",
      "| Cessna 152       | 33.0082            | 1                              |\n",
      "| Cessna 172RG     | 33.0027            | 2                              |\n",
      "| Piper PA-30      | 33.0027            | 2                              |\n",
      "| Cessna 185       | 33.0027            | 2                              |\n",
      "| Piper PA-28-140  | 33.0027            | 2                              |\n",
      "| Cessna 172       | 33                 | 2                              |\n",
      "| Hughes 269C      | 33                 | 2                              |\n"
     ]
    }
   ],
   "source": [
    "# Labeling the safest and least safe models\n",
    "safest_aircraft = df_safest.head(15)\n",
    "least_safe_aircraft = df_least_safe.head(15)\n",
    "\n",
    "# Show the top 10 safest and least safe models\n",
    "print(\"Safest Models (Most Years in Service):\")\n",
    "print(df_safest[['Aircraft', 'Years_In_Service', 'People_Involved_per_Accident']].head(10).to_markdown(index=False, numalign=\"left\", stralign=\"left\"))\n",
    "\n"
   ]
  },
  {
   "cell_type": "markdown",
   "id": "e63cfaa1",
   "metadata": {},
   "source": [
    "Least Safe Aircraft"
   ]
  },
  {
   "cell_type": "code",
   "execution_count": 19,
   "id": "980438f0",
   "metadata": {},
   "outputs": [
    {
     "name": "stdout",
     "output_type": "stream",
     "text": [
      "\n",
      "Least Safe Aircrafts (Fewest Years in Service):\n",
      "| Aircraft                           | Years_In_Service   | People_Involved_per_Accident   |\n",
      "|:-----------------------------------|:-------------------|:-------------------------------|\n",
      "| PIPER PA 18-150                    | 9.31233            | 2                              |\n",
      "| CESSNA 208                         | 14.0685            | 7                              |\n",
      "| BEECH 58                           | 14.0932            | 3                              |\n",
      "| ROBINSON HELICOPTER COMPANY R44 II | 14.1205            | 2                              |\n",
      "| ROBINSON HELICOPTER R44            | 14.137             | 2                              |\n",
      "| ROBINSON R22                       | 14.211             | 2                              |\n",
      "| CESSNA 172P                        | 14.2192            | 2                              |\n",
      "| ROBINSON R44                       | 14.2521            | 2                              |\n",
      "| AERONCA 7AC                        | 14.2603            | 1                              |\n",
      "| BELL 206                           | 14.2685            | 2                              |\n"
     ]
    }
   ],
   "source": [
    "print(\"\\nLeast Safe Aircrafts (Fewest Years in Service):\")\n",
    "print(df_least_safe[['Aircraft', 'Years_In_Service', 'People_Involved_per_Accident']].head(10).to_markdown(index=False, numalign=\"left\", stralign=\"left\"))\n"
   ]
  },
  {
   "cell_type": "markdown",
   "id": "7f614e1d",
   "metadata": {},
   "source": []
  },
  {
   "cell_type": "code",
   "execution_count": null,
   "id": "886aedb0-faeb-4f3c-a741-757226385d84",
   "metadata": {},
   "outputs": [],
   "source": []
  },
  {
   "cell_type": "markdown",
   "id": "d629d86f",
   "metadata": {},
   "source": [
    "### Explore Correlations"
   ]
  },
  {
   "cell_type": "markdown",
   "id": "61610880",
   "metadata": {},
   "source": [
    "**Safety vs. Years in Service Scatter Plot**"
   ]
  },
  {
   "cell_type": "code",
   "execution_count": 20,
   "id": "77e88ffd-6ab9-4d20-8ec4-23b9e1ca47b4",
   "metadata": {
    "tags": []
   },
   "outputs": [
    {
     "data": {
      "image/png": "[encoded data removed]",
      "text/plain": [
       "<Figure size 1000x600 with 1 Axes>"
      ]
     },
     "metadata": {},
     "output_type": "display_data"
    }
   ],
   "source": [
    "#Safety vs. Years in Service Scatter Plot\n",
    "\n",
    "plt.figure(figsize=(10, 6))\n",
    "plt.scatter(df_aircraft_grouped_filtered['Years_In_Service'], df_aircraft_grouped_filtered['People_Involved_per_Accident'], alpha=0.7)\n",
    "plt.title('Safety vs. Years in Service')\n",
    "plt.xlabel('Years in Service')\n",
    "plt.ylabel('People Involved per Accident')\n",
    "\n",
    "\n",
    "\n",
    "for i, row in safest_aircraft.iterrows():\n",
    "    plt.text(row['Years_In_Service'] + 0.5, row['People_Involved_per_Accident'] + 0.5, row['Aircraft'], fontsize=9)\n",
    "\n",
    "for i, row in least_safe_aircraft.iterrows():\n",
    "    plt.text(row['Years_In_Service'] + 0.5, row['People_Involved_per_Accident'] + 0.5, row['Aircraft'], fontsize=9)\n",
    "\n",
    "plt.grid(axis='x', linestyle='--')\n",
    "plt.tight_layout()\n",
    "plt.show()\n",
    "\n"
   ]
  },
  {
   "cell_type": "markdown",
   "id": "225a4cef",
   "metadata": {},
   "source": [
    "* Most aircraft models have a low average number of people involved per accident, especially those with more years in service\n",
    "* The Boeing 737 stands out significantly with an average of nearly 80 people involved per accident.\n",
    "* There is a dense cluster of models with fewer years in service (around 10-20 years) and low average people per accident.\n",
    "* The models with the highest years in service, including various Cessna models, Bell 206, and others, tend to have low average people involved per accident, reaffirming their safety and reliability over extended periods."
   ]
  },
  {
   "cell_type": "markdown",
   "id": "0d1f8e29",
   "metadata": {},
   "source": [
    "**Top 15 Safest Models by Years in Service Bar Chart**"
   ]
  },
  {
   "cell_type": "code",
   "execution_count": 21,
   "id": "300b78d8",
   "metadata": {},
   "outputs": [
    {
     "data": {
      "image/png": "[encoded data removed]",
      "text/plain": [
       "<Figure size 1000x600 with 1 Axes>"
      ]
     },
     "metadata": {},
     "output_type": "display_data"
    }
   ],
   "source": [
    "# 2. Top 5 Safest Models by Years in Service Bar Chart\n",
    "\n",
    "plt.figure(figsize=(10, 6))\n",
    "plt.bar(safest_aircraft['Aircraft'], safest_aircraft['Years_In_Service'])\n",
    "plt.title('Top 5 Safest Models by Years in Service')\n",
    "plt.xlabel('Aircraft Model')\n",
    "plt.ylabel('Years in Service')\n",
    "plt.xticks(rotation=45)\n",
    "plt.show()"
   ]
  },
  {
   "cell_type": "markdown",
   "id": "5aeb7b64",
   "metadata": {},
   "source": [
    "* All the aircraft models listed have been in service for approximately 40 years. This indicates that these models have been operational for a long time and have accumulated extensive service experience.\n",
    "* Aircraft models include various makes and models, primarily from manufacturers like Cessna and Bellanca. The uniformity suggests that these models are robust and reliable over a long period."
   ]
  },
  {
   "cell_type": "markdown",
   "id": "f1147b17",
   "metadata": {},
   "source": [
    "**Top 15 Least Safe Models by Years in Service Bar Chart**"
   ]
  },
  {
   "cell_type": "code",
   "execution_count": 24,
   "id": "46df5ff3-2a2e-4dc6-87a9-66653261ecb0",
   "metadata": {
    "tags": []
   },
   "outputs": [
    {
     "data": {
      "image/png": "[encoded data removed]",
      "text/plain": [
       "<Figure size 1000x600 with 1 Axes>"
      ]
     },
     "metadata": {},
     "output_type": "display_data"
    }
   ],
   "source": [
    "#Top 15 Least Safe Models by Years in Service Bar Chart\n",
    "\n",
    "plt.figure(figsize=(10, 6))\n",
    "plt.bar(least_safe_aircraft['Aircraft'], least_safe_aircraft['Years_In_Service'])\n",
    "plt.title('Top 5 Least Safe Models by Years in Service')\n",
    "plt.xlabel('Aircraft Model')\n",
    "plt.ylabel('Years in Service')\n",
    "plt.xticks(rotation=45)\n",
    "plt.show()"
   ]
  },
  {
   "cell_type": "markdown",
   "id": "3f42eef6",
   "metadata": {},
   "source": [
    "## CONCLUSION"
   ]
  },
  {
   "cell_type": "markdown",
   "id": "e86cb665",
   "metadata": {},
   "source": [
    "* The BOEING 737 has the highest number of people involved per accident, with around 80 people.\n",
    "* Most other aircraft have significantly lower numbers of people involved per accident, clustering around 0-10 people, especially for models like CESSNA 208 and ROBINSON HELICOPTER COMPANY R44 II.\n",
    "* The years in service for these aircraft range from about 10 to over 30 years."
   ]
  },
  {
   "cell_type": "code",
   "execution_count": null,
   "id": "14903f72",
   "metadata": {},
   "outputs": [],
   "source": []
  },
  {
   "cell_type": "code",
   "execution_count": null,
   "id": "4ec23a89",
   "metadata": {},
   "outputs": [],
   "source": []
  },
  {
   "cell_type": "code",
   "execution_count": null,
   "id": "c5bb1d89",
   "metadata": {},
   "outputs": [],
   "source": []
  },
  {
   "cell_type": "code",
   "execution_count": null,
   "id": "ae3f3d95",
   "metadata": {},
   "outputs": [],
   "source": []
  }
 ],
 "metadata": {
  "kernelspec": {
   "display_name": "Python 3 (ipykernel)",
   "language": "python",
   "name": "python3"
  },
  "language_info": {
   "codemirror_mode": {
    "name": "ipython",
    "version": 3
   },
   "file_extension": ".py",
   "mimetype": "text/x-python",
   "name": "python",
   "nbconvert_exporter": "python",
   "pygments_lexer": "ipython3",
   "version": "3.12.3"
  }
 },
 "nbformat": 4,
 "nbformat_minor": 5
}
